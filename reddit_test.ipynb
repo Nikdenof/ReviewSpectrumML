{
  "nbformat": 4,
  "nbformat_minor": 0,
  "metadata": {
    "colab": {
      "provenance": [],
      "authorship_tag": "ABX9TyMMvjR1oM0we1OPLfhTlAPI",
      "include_colab_link": true
    },
    "kernelspec": {
      "name": "python3",
      "display_name": "Python 3"
    },
    "language_info": {
      "name": "python"
    }
  },
  "cells": [
    {
      "cell_type": "markdown",
      "metadata": {
        "id": "view-in-github",
        "colab_type": "text"
      },
      "source": [
        "<a href=\"https://colab.research.google.com/github/Nikdenof/ReviewSpectrumML/blob/main/reddit_test.ipynb\" target=\"_parent\"><img src=\"https://colab.research.google.com/assets/colab-badge.svg\" alt=\"Open In Colab\"/></a>"
      ]
    },
    {
      "cell_type": "markdown",
      "source": [
        "## Reddit:"
      ],
      "metadata": {
        "id": "XEkByrG-XYy6"
      }
    },
    {
      "cell_type": "code",
      "source": [
        "!pip install praw"
      ],
      "metadata": {
        "colab": {
          "base_uri": "https://localhost:8080/"
        },
        "id": "0F2JyFxhGfFA",
        "outputId": "1d69e2f2-c4aa-4edb-f19b-d225410fe275"
      },
      "execution_count": 1,
      "outputs": [
        {
          "output_type": "stream",
          "name": "stdout",
          "text": [
            "Requirement already satisfied: praw in /usr/local/lib/python3.10/dist-packages (7.7.1)\n",
            "Requirement already satisfied: prawcore<3,>=2.1 in /usr/local/lib/python3.10/dist-packages (from praw) (2.4.0)\n",
            "Requirement already satisfied: update-checker>=0.18 in /usr/local/lib/python3.10/dist-packages (from praw) (0.18.0)\n",
            "Requirement already satisfied: websocket-client>=0.54.0 in /usr/local/lib/python3.10/dist-packages (from praw) (1.7.0)\n",
            "Requirement already satisfied: requests<3.0,>=2.6.0 in /usr/local/lib/python3.10/dist-packages (from prawcore<3,>=2.1->praw) (2.31.0)\n",
            "Requirement already satisfied: charset-normalizer<4,>=2 in /usr/local/lib/python3.10/dist-packages (from requests<3.0,>=2.6.0->prawcore<3,>=2.1->praw) (3.3.2)\n",
            "Requirement already satisfied: idna<4,>=2.5 in /usr/local/lib/python3.10/dist-packages (from requests<3.0,>=2.6.0->prawcore<3,>=2.1->praw) (3.6)\n",
            "Requirement already satisfied: urllib3<3,>=1.21.1 in /usr/local/lib/python3.10/dist-packages (from requests<3.0,>=2.6.0->prawcore<3,>=2.1->praw) (2.0.7)\n",
            "Requirement already satisfied: certifi>=2017.4.17 in /usr/local/lib/python3.10/dist-packages (from requests<3.0,>=2.6.0->prawcore<3,>=2.1->praw) (2024.2.2)\n"
          ]
        }
      ]
    },
    {
      "cell_type": "code",
      "execution_count": 2,
      "metadata": {
        "id": "oLRR4p_dGNRZ"
      },
      "outputs": [],
      "source": [
        "import praw\n",
        "from praw.models import MoreComments"
      ]
    },
    {
      "cell_type": "code",
      "source": [
        "# Инициализация Reddit API\n",
        "reddit = praw.Reddit(client_id='bkK83nENe7PenLMiVWY7Rg',\n",
        "                     client_secret='rzex2wQb4nkwsrlqY68J4Or1W2wSyA',\n",
        "                     user_agent='training')"
      ],
      "metadata": {
        "id": "X6aJ0VpsGlmt"
      },
      "execution_count": 3,
      "outputs": []
    },
    {
      "cell_type": "code",
      "source": [
        "url = \"https://www.reddit.com/r/Bitcoin/comments/1bn6jqn/daily_discussion_march_25_2024/\"\n",
        "submission = reddit.submission(url=url)"
      ],
      "metadata": {
        "id": "xoeDzJC4LnZp"
      },
      "execution_count": 4,
      "outputs": []
    },
    {
      "cell_type": "code",
      "source": [
        "comms = []\n",
        "submission.comments.replace_more(limit=None)\n",
        "for comment in submission.comments.list():\n",
        "    #print(comment.body)\n",
        "    comms.append(comment.body)"
      ],
      "metadata": {
        "colab": {
          "base_uri": "https://localhost:8080/"
        },
        "id": "bO9WoHtqO7P0",
        "outputId": "654e91d8-41cd-4efb-8e1d-a4750626c66b"
      },
      "execution_count": 5,
      "outputs": [
        {
          "output_type": "stream",
          "name": "stderr",
          "text": [
            "WARNING:praw:It appears that you are using PRAW in an asynchronous environment.\n",
            "It is strongly recommended to use Async PRAW: https://asyncpraw.readthedocs.io.\n",
            "See https://praw.readthedocs.io/en/latest/getting_started/multiple_instances.html#discord-bots-and-asynchronous-environments for more info.\n",
            "\n"
          ]
        }
      ]
    },
    {
      "cell_type": "code",
      "source": [
        "from pprint import pprint"
      ],
      "metadata": {
        "id": "qU5ukHANPgw4"
      },
      "execution_count": 6,
      "outputs": []
    },
    {
      "cell_type": "code",
      "source": [
        "pprint(comms[:50])"
      ],
      "metadata": {
        "colab": {
          "base_uri": "https://localhost:8080/"
        },
        "id": "dg_a0Y-iMY4j",
        "outputId": "1415e6a1-1ce5-4e43-e724-8276b540e275"
      },
      "execution_count": 7,
      "outputs": [
        {
          "output_type": "stream",
          "name": "stdout",
          "text": [
            "['u/oheson remember when you said $53K was the top a month ago based on '\n",
            " 'blueprints on your TA wizardry and how you kept doubling down on this? How '\n",
            " 'it kept going up to almost $74K, more than $20K above your prediction?\\n'\n",
            " '\\n'\n",
            " 'How you said it was impossible for Bitcoin to hit a new ATH before the '\n",
            " 'halvening. And how $53K was \"like concrete bricks\", only for the  price '\n",
            " 'minutes later to go past $54K and never to drop below $60K again?\\n'\n",
            " '\\n'\n",
            " 'And then you basically stopped commenting as much as you used to and started '\n",
            " 'spending more of your time over in r/cc with shitcoiners?',\n",
            " \"Where's that guy who spent all weekend talking about his 125x leveraged \"\n",
            " 'short at $65k?',\n",
            " 'Just when all the TA guys were calling for a sub 60 pullback',\n",
            " 'London Stock Exchange to launch market for Bitcoin\\xa0 exchange traded notes '\n",
            " '(ETNS/ETFS) on May 28\\n'\n",
            " '\\n'\n",
            " 'Plebs front run the entire world & rightfully so',\n",
            " 'Its a very sunny day where I live. Almost no clouds in the very blue sky. '\n",
            " 'Life is good, cheers.',\n",
            " 'Bunch of normies were talking at work the other day:\\n'\n",
            " '\"Remember a couple years ago when crypto and bitcoin was all the rage? Its '\n",
            " 'dead now, was all a scam etc\"\\n'\n",
            " \"I held my tongue and didn't point out were actually at ATHs.\\n\"\n",
            " '\\n'\n",
            " '\\n'\n",
            " 'Still early days.\\xa0',\n",
            " 'Really hope we’re done with 69.  My neck hurts.',\n",
            " 'Historical Bitcoin prices for today, March 25th:\\r'\n",
            " '  \\n'\n",
            " '\\r'\n",
            " '  \\n'\n",
            " '2024 - $67,155\\r'\n",
            " '  \\n'\n",
            " '2023 - $27,476\\r'\n",
            " '  \\n'\n",
            " '2022 - $44,331\\r'\n",
            " '  \\n'\n",
            " '2021 - $51,322\\r'\n",
            " '  \\n'\n",
            " '2020 - $6,679\\r'\n",
            " '  \\n'\n",
            " '2019 - $3,937\\r'\n",
            " '  \\n'\n",
            " '2018 - $8,473\\r'\n",
            " '  \\n'\n",
            " '2017 - $966\\r'\n",
            " '  \\n'\n",
            " '2016 - $416\\r'\n",
            " '  \\n'\n",
            " '2015 - $246\\r'\n",
            " '  \\n'\n",
            " '2014 - $563\\r'\n",
            " '  \\n'\n",
            " '2013 - $74\\r'\n",
            " '  \\n'\n",
            " '2012 - $4.6\\r'\n",
            " '  \\n'\n",
            " '2011 - $0.90\\r'\n",
            " '  \\n'\n",
            " '\\r'\n",
            " '  \\n'\n",
            " '**Additional Stats:**\\r'\n",
            " '  \\n'\n",
            " '\\r'\n",
            " '  \\n'\n",
            " \"Bitcoin's current market cap is $1.32 trillion.\\r\"\n",
            " '  \\n'\n",
            " '\\r'\n",
            " '  \\n'\n",
            " \"Bitcoin's average daily trading volume for the last 7 days is 86,514 ₿.\\r\"\n",
            " '  \\n'\n",
            " '\\r'\n",
            " '  \\n'\n",
            " \"Bitcoin's average daily number of transactions for the last 7 days is \"\n",
            " '366,721.\\r'\n",
            " '  \\n'\n",
            " '\\r'\n",
            " '  \\n'\n",
            " \"Bitcoin's average daily hashrate for the last 7 days is 615 exahashes per \"\n",
            " 'second.\\r'\n",
            " '  \\n'\n",
            " '\\r'\n",
            " '  \\n'\n",
            " \"Bitcoin's average daily price from 18-Jul-2010 to 25-Mar-2024 is \"\n",
            " '$10,823.55.\\r'\n",
            " '  \\n'\n",
            " '\\r'\n",
            " '  \\n'\n",
            " \"Bitcoin's average daily price for the year 2024 is $52,366.12.\\r\"\n",
            " '  \\n'\n",
            " '\\r'\n",
            " '  \\n'\n",
            " '1 US Dollar ($) currently equals: 1,489 satoshis; making 1 penny equal 14.89 '\n",
            " 'sats.\\r'\n",
            " '  \\n'\n",
            " '\\r'\n",
            " '  \\n'\n",
            " 'There are currently 19.66M BTC in circulation, leaving 1.34M to be mined.\\r'\n",
            " '  \\n'\n",
            " '\\r'\n",
            " '  \\n'\n",
            " 'There are currently 52,391,341 nonzero Bitcoin addresses.\\r'\n",
            " '  \\n'\n",
            " '\\r'\n",
            " '  \\n'\n",
            " \"Bitcoin's current block reward is 6.25₿, which is worth $419,718.13 per \"\n",
            " 'block.\\r'\n",
            " '  \\n'\n",
            " '\\r'\n",
            " '  \\n'\n",
            " \"Bitcoin's minimum (closing) price for the year 2024 was $39,556.40 on \"\n",
            " '22-Jan-2024.\\r'\n",
            " '  \\n'\n",
            " '\\r'\n",
            " '  \\n'\n",
            " \"Bitcoin's maximum (closing) price for the year 2024 was $73,066.30 on \"\n",
            " '13-Mar-2024.\\r'\n",
            " '  \\n'\n",
            " '\\r'\n",
            " '  \\n'\n",
            " \"Bitcoin's minimum (intraday) price for the year 2024 was $38,546.90 on \"\n",
            " '23-Jan-2024.\\r'\n",
            " '  \\n'\n",
            " '\\r'\n",
            " '  \\n'\n",
            " \"Bitcoin's maximum (intraday) price for the year 2024 was $73,740.90 on \"\n",
            " '14-Mar-2024.\\r'\n",
            " '  \\n'\n",
            " '\\r'\n",
            " '  \\n'\n",
            " \"Bitcoin's largest daily decrease for the year 2024 was -$5,544.10 on \"\n",
            " '19-Mar-2024.\\r'\n",
            " '  \\n'\n",
            " '\\r'\n",
            " '  \\n'\n",
            " \"Bitcoin's largest daily increase for the year 2024 was +$5,804.0 on \"\n",
            " '20-Mar-2024.\\r'\n",
            " '  \\n'\n",
            " '\\r'\n",
            " '  \\n'\n",
            " \"Bitcoin's all-time high (intraday) was $73,740.90 on 14-Mar-2024. Bitcoin is \"\n",
            " 'down 8.93% from the ATH.',\n",
            " 'Man I bought a bunch of BTC yesterday and expected it to crash as it '\n",
            " 'normally does for me. Pleasantly surprised 😮',\n",
            " 'Smooth seas don’t make a great Saylor \\U0001fae1',\n",
            " \"Let's take a moment to appreciate how we're already holding at 67K coming \"\n",
            " 'off of an entire week with negative $887M in outflows from Grayscale. '\n",
            " 'Bitcoin is relentless!!!!',\n",
            " 'Fidelity so far single-handedly absorbing GBTC sales, great to see',\n",
            " 'Green Bitcoin days are the best days. Gets my creative juices flowing. '\n",
            " 'Looking at Mediterranean real estate that I can only afford if/when Bitcoin '\n",
            " \"hits $1M+. It's fun though.\",\n",
            " '71k broken lets go!',\n",
            " 'Consolidated at 9 sats. Happy happy.',\n",
            " \"I can honestly say I don't care about short term price.  But this is way \"\n",
            " 'more fun than when its going down.',\n",
            " 'Gold is now at a 14 trillion market cap, which means we need to raise our '\n",
            " 'price target to $650k',\n",
            " '70k broken lets go!',\n",
            " 'Happy 70K everyone !!!',\n",
            " 'MSTR is up 18% today. Saylor is laughing all the way to the bank. 😂',\n",
            " 'I hate short sellers. I said what I said.',\n",
            " \"Fees really low right now.    \\nConsolidate your UTXO's.\",\n",
            " 'Microstrategy gang rise up!!!!!',\n",
            " 'Bears in shambles',\n",
            " 'She is spicy today.',\n",
            " 'This gotta breathe before new ATH right ? Right ???',\n",
            " 'I enjoyed a few days off from staring at the bitcoin price, back to checking '\n",
            " 'every five minutes again.',\n",
            " 'Little 20% pullbacks are very healthy bull market behavior',\n",
            " 'South American gold miner, Nilam Resources to buy 24,000 Bitcoin\\xa0 ($1.7 '\n",
            " 'billion). -WatcherGuru twitter\\n'\n",
            " '\\n'\n",
            " 'Holy… (if true)',\n",
            " 'Imagine shorting BTC',\n",
            " 'Having been through a couple of these, it feels like I’m sitting at the '\n",
            " 'bottom of the next bear market.',\n",
            " 'Guys, I would like to see some memes. Please post them epic memes.',\n",
            " '[deleted]',\n",
            " 'Higher highs and higher lows right now. Gearing up for a breakthrough in '\n",
            " '30mins?',\n",
            " 'When btc hits 80k mstr is going to be $3.3k per share and I’m going to '\n",
            " 'retire.',\n",
            " 'Bitcoin is the revolution',\n",
            " \"Today is gonna be a good monday. We'll break 68k\",\n",
            " \"Appreciate the positive vibes in here today. Let's be grateful for what we \"\n",
            " \"have, and optimistic about where we're going.\",\n",
            " 'Laura, it’s going up forever.',\n",
            " \"69,420... y'all just had to, didn't you ?\",\n",
            " 'Just hit 69,420 - happy days',\n",
            " \"It's going to a new ATH this week, Laura.\",\n",
            " 'Here we go again. Hello 70k',\n",
            " '75 would be pretty cool today',\n",
            " 'Booyakasha!',\n",
            " \"We're all gonna make it. We're gonna be OH KAY.\",\n",
            " 'What a day!',\n",
            " '69k !!',\n",
            " 'The great absorber feasts',\n",
            " \"I'm going to allow this\"]\n"
          ]
        }
      ]
    },
    {
      "cell_type": "code",
      "source": [
        "import pandas as pd"
      ],
      "metadata": {
        "id": "0ngJ-8OsNg_-"
      },
      "execution_count": 8,
      "outputs": []
    },
    {
      "cell_type": "code",
      "source": [
        "comms_data = pd.DataFrame(data = comms, columns=['comments'])"
      ],
      "metadata": {
        "id": "IraDyHkRNjIk"
      },
      "execution_count": 9,
      "outputs": []
    },
    {
      "cell_type": "code",
      "source": [
        "comms_data"
      ],
      "metadata": {
        "colab": {
          "base_uri": "https://localhost:8080/",
          "height": 424
        },
        "id": "-Mk8oMaBNuxj",
        "outputId": "dc737361-6550-4f15-bd1e-8ad9d38a9576"
      },
      "execution_count": 10,
      "outputs": [
        {
          "output_type": "execute_result",
          "data": {
            "text/plain": [
              "                                              comments\n",
              "0    u/oheson remember when you said $53K was the t...\n",
              "1    Where's that guy who spent all weekend talking...\n",
              "2    Just when all the TA guys were calling for a s...\n",
              "3    London Stock Exchange to launch market for Bit...\n",
              "4    Its a very sunny day where I live. Almost no c...\n",
              "..                                                 ...\n",
              "430  It works good enough for people to make a livi...\n",
              "431  Probably a misunderstanding here. The question...\n",
              "432   Glass half full is better than half empty right?\n",
              "433  it works both ways :) since 0xFFFF FFFF FFFF F...\n",
              "434                                      100%. Always.\n",
              "\n",
              "[435 rows x 1 columns]"
            ],
            "text/html": [
              "\n",
              "  <div id=\"df-a074641d-21d3-41f3-b8b2-a73f6a215048\" class=\"colab-df-container\">\n",
              "    <div>\n",
              "<style scoped>\n",
              "    .dataframe tbody tr th:only-of-type {\n",
              "        vertical-align: middle;\n",
              "    }\n",
              "\n",
              "    .dataframe tbody tr th {\n",
              "        vertical-align: top;\n",
              "    }\n",
              "\n",
              "    .dataframe thead th {\n",
              "        text-align: right;\n",
              "    }\n",
              "</style>\n",
              "<table border=\"1\" class=\"dataframe\">\n",
              "  <thead>\n",
              "    <tr style=\"text-align: right;\">\n",
              "      <th></th>\n",
              "      <th>comments</th>\n",
              "    </tr>\n",
              "  </thead>\n",
              "  <tbody>\n",
              "    <tr>\n",
              "      <th>0</th>\n",
              "      <td>u/oheson remember when you said $53K was the t...</td>\n",
              "    </tr>\n",
              "    <tr>\n",
              "      <th>1</th>\n",
              "      <td>Where's that guy who spent all weekend talking...</td>\n",
              "    </tr>\n",
              "    <tr>\n",
              "      <th>2</th>\n",
              "      <td>Just when all the TA guys were calling for a s...</td>\n",
              "    </tr>\n",
              "    <tr>\n",
              "      <th>3</th>\n",
              "      <td>London Stock Exchange to launch market for Bit...</td>\n",
              "    </tr>\n",
              "    <tr>\n",
              "      <th>4</th>\n",
              "      <td>Its a very sunny day where I live. Almost no c...</td>\n",
              "    </tr>\n",
              "    <tr>\n",
              "      <th>...</th>\n",
              "      <td>...</td>\n",
              "    </tr>\n",
              "    <tr>\n",
              "      <th>430</th>\n",
              "      <td>It works good enough for people to make a livi...</td>\n",
              "    </tr>\n",
              "    <tr>\n",
              "      <th>431</th>\n",
              "      <td>Probably a misunderstanding here. The question...</td>\n",
              "    </tr>\n",
              "    <tr>\n",
              "      <th>432</th>\n",
              "      <td>Glass half full is better than half empty right?</td>\n",
              "    </tr>\n",
              "    <tr>\n",
              "      <th>433</th>\n",
              "      <td>it works both ways :) since 0xFFFF FFFF FFFF F...</td>\n",
              "    </tr>\n",
              "    <tr>\n",
              "      <th>434</th>\n",
              "      <td>100%. Always.</td>\n",
              "    </tr>\n",
              "  </tbody>\n",
              "</table>\n",
              "<p>435 rows × 1 columns</p>\n",
              "</div>\n",
              "    <div class=\"colab-df-buttons\">\n",
              "\n",
              "  <div class=\"colab-df-container\">\n",
              "    <button class=\"colab-df-convert\" onclick=\"convertToInteractive('df-a074641d-21d3-41f3-b8b2-a73f6a215048')\"\n",
              "            title=\"Convert this dataframe to an interactive table.\"\n",
              "            style=\"display:none;\">\n",
              "\n",
              "  <svg xmlns=\"http://www.w3.org/2000/svg\" height=\"24px\" viewBox=\"0 -960 960 960\">\n",
              "    <path d=\"M120-120v-720h720v720H120Zm60-500h600v-160H180v160Zm220 220h160v-160H400v160Zm0 220h160v-160H400v160ZM180-400h160v-160H180v160Zm440 0h160v-160H620v160ZM180-180h160v-160H180v160Zm440 0h160v-160H620v160Z\"/>\n",
              "  </svg>\n",
              "    </button>\n",
              "\n",
              "  <style>\n",
              "    .colab-df-container {\n",
              "      display:flex;\n",
              "      gap: 12px;\n",
              "    }\n",
              "\n",
              "    .colab-df-convert {\n",
              "      background-color: #E8F0FE;\n",
              "      border: none;\n",
              "      border-radius: 50%;\n",
              "      cursor: pointer;\n",
              "      display: none;\n",
              "      fill: #1967D2;\n",
              "      height: 32px;\n",
              "      padding: 0 0 0 0;\n",
              "      width: 32px;\n",
              "    }\n",
              "\n",
              "    .colab-df-convert:hover {\n",
              "      background-color: #E2EBFA;\n",
              "      box-shadow: 0px 1px 2px rgba(60, 64, 67, 0.3), 0px 1px 3px 1px rgba(60, 64, 67, 0.15);\n",
              "      fill: #174EA6;\n",
              "    }\n",
              "\n",
              "    .colab-df-buttons div {\n",
              "      margin-bottom: 4px;\n",
              "    }\n",
              "\n",
              "    [theme=dark] .colab-df-convert {\n",
              "      background-color: #3B4455;\n",
              "      fill: #D2E3FC;\n",
              "    }\n",
              "\n",
              "    [theme=dark] .colab-df-convert:hover {\n",
              "      background-color: #434B5C;\n",
              "      box-shadow: 0px 1px 3px 1px rgba(0, 0, 0, 0.15);\n",
              "      filter: drop-shadow(0px 1px 2px rgba(0, 0, 0, 0.3));\n",
              "      fill: #FFFFFF;\n",
              "    }\n",
              "  </style>\n",
              "\n",
              "    <script>\n",
              "      const buttonEl =\n",
              "        document.querySelector('#df-a074641d-21d3-41f3-b8b2-a73f6a215048 button.colab-df-convert');\n",
              "      buttonEl.style.display =\n",
              "        google.colab.kernel.accessAllowed ? 'block' : 'none';\n",
              "\n",
              "      async function convertToInteractive(key) {\n",
              "        const element = document.querySelector('#df-a074641d-21d3-41f3-b8b2-a73f6a215048');\n",
              "        const dataTable =\n",
              "          await google.colab.kernel.invokeFunction('convertToInteractive',\n",
              "                                                    [key], {});\n",
              "        if (!dataTable) return;\n",
              "\n",
              "        const docLinkHtml = 'Like what you see? Visit the ' +\n",
              "          '<a target=\"_blank\" href=https://colab.research.google.com/notebooks/data_table.ipynb>data table notebook</a>'\n",
              "          + ' to learn more about interactive tables.';\n",
              "        element.innerHTML = '';\n",
              "        dataTable['output_type'] = 'display_data';\n",
              "        await google.colab.output.renderOutput(dataTable, element);\n",
              "        const docLink = document.createElement('div');\n",
              "        docLink.innerHTML = docLinkHtml;\n",
              "        element.appendChild(docLink);\n",
              "      }\n",
              "    </script>\n",
              "  </div>\n",
              "\n",
              "\n",
              "<div id=\"df-b1c48c63-535d-46ac-96aa-63a185d93df7\">\n",
              "  <button class=\"colab-df-quickchart\" onclick=\"quickchart('df-b1c48c63-535d-46ac-96aa-63a185d93df7')\"\n",
              "            title=\"Suggest charts\"\n",
              "            style=\"display:none;\">\n",
              "\n",
              "<svg xmlns=\"http://www.w3.org/2000/svg\" height=\"24px\"viewBox=\"0 0 24 24\"\n",
              "     width=\"24px\">\n",
              "    <g>\n",
              "        <path d=\"M19 3H5c-1.1 0-2 .9-2 2v14c0 1.1.9 2 2 2h14c1.1 0 2-.9 2-2V5c0-1.1-.9-2-2-2zM9 17H7v-7h2v7zm4 0h-2V7h2v10zm4 0h-2v-4h2v4z\"/>\n",
              "    </g>\n",
              "</svg>\n",
              "  </button>\n",
              "\n",
              "<style>\n",
              "  .colab-df-quickchart {\n",
              "      --bg-color: #E8F0FE;\n",
              "      --fill-color: #1967D2;\n",
              "      --hover-bg-color: #E2EBFA;\n",
              "      --hover-fill-color: #174EA6;\n",
              "      --disabled-fill-color: #AAA;\n",
              "      --disabled-bg-color: #DDD;\n",
              "  }\n",
              "\n",
              "  [theme=dark] .colab-df-quickchart {\n",
              "      --bg-color: #3B4455;\n",
              "      --fill-color: #D2E3FC;\n",
              "      --hover-bg-color: #434B5C;\n",
              "      --hover-fill-color: #FFFFFF;\n",
              "      --disabled-bg-color: #3B4455;\n",
              "      --disabled-fill-color: #666;\n",
              "  }\n",
              "\n",
              "  .colab-df-quickchart {\n",
              "    background-color: var(--bg-color);\n",
              "    border: none;\n",
              "    border-radius: 50%;\n",
              "    cursor: pointer;\n",
              "    display: none;\n",
              "    fill: var(--fill-color);\n",
              "    height: 32px;\n",
              "    padding: 0;\n",
              "    width: 32px;\n",
              "  }\n",
              "\n",
              "  .colab-df-quickchart:hover {\n",
              "    background-color: var(--hover-bg-color);\n",
              "    box-shadow: 0 1px 2px rgba(60, 64, 67, 0.3), 0 1px 3px 1px rgba(60, 64, 67, 0.15);\n",
              "    fill: var(--button-hover-fill-color);\n",
              "  }\n",
              "\n",
              "  .colab-df-quickchart-complete:disabled,\n",
              "  .colab-df-quickchart-complete:disabled:hover {\n",
              "    background-color: var(--disabled-bg-color);\n",
              "    fill: var(--disabled-fill-color);\n",
              "    box-shadow: none;\n",
              "  }\n",
              "\n",
              "  .colab-df-spinner {\n",
              "    border: 2px solid var(--fill-color);\n",
              "    border-color: transparent;\n",
              "    border-bottom-color: var(--fill-color);\n",
              "    animation:\n",
              "      spin 1s steps(1) infinite;\n",
              "  }\n",
              "\n",
              "  @keyframes spin {\n",
              "    0% {\n",
              "      border-color: transparent;\n",
              "      border-bottom-color: var(--fill-color);\n",
              "      border-left-color: var(--fill-color);\n",
              "    }\n",
              "    20% {\n",
              "      border-color: transparent;\n",
              "      border-left-color: var(--fill-color);\n",
              "      border-top-color: var(--fill-color);\n",
              "    }\n",
              "    30% {\n",
              "      border-color: transparent;\n",
              "      border-left-color: var(--fill-color);\n",
              "      border-top-color: var(--fill-color);\n",
              "      border-right-color: var(--fill-color);\n",
              "    }\n",
              "    40% {\n",
              "      border-color: transparent;\n",
              "      border-right-color: var(--fill-color);\n",
              "      border-top-color: var(--fill-color);\n",
              "    }\n",
              "    60% {\n",
              "      border-color: transparent;\n",
              "      border-right-color: var(--fill-color);\n",
              "    }\n",
              "    80% {\n",
              "      border-color: transparent;\n",
              "      border-right-color: var(--fill-color);\n",
              "      border-bottom-color: var(--fill-color);\n",
              "    }\n",
              "    90% {\n",
              "      border-color: transparent;\n",
              "      border-bottom-color: var(--fill-color);\n",
              "    }\n",
              "  }\n",
              "</style>\n",
              "\n",
              "  <script>\n",
              "    async function quickchart(key) {\n",
              "      const quickchartButtonEl =\n",
              "        document.querySelector('#' + key + ' button');\n",
              "      quickchartButtonEl.disabled = true;  // To prevent multiple clicks.\n",
              "      quickchartButtonEl.classList.add('colab-df-spinner');\n",
              "      try {\n",
              "        const charts = await google.colab.kernel.invokeFunction(\n",
              "            'suggestCharts', [key], {});\n",
              "      } catch (error) {\n",
              "        console.error('Error during call to suggestCharts:', error);\n",
              "      }\n",
              "      quickchartButtonEl.classList.remove('colab-df-spinner');\n",
              "      quickchartButtonEl.classList.add('colab-df-quickchart-complete');\n",
              "    }\n",
              "    (() => {\n",
              "      let quickchartButtonEl =\n",
              "        document.querySelector('#df-b1c48c63-535d-46ac-96aa-63a185d93df7 button');\n",
              "      quickchartButtonEl.style.display =\n",
              "        google.colab.kernel.accessAllowed ? 'block' : 'none';\n",
              "    })();\n",
              "  </script>\n",
              "</div>\n",
              "\n",
              "  <div id=\"id_65cd0790-c652-4a3a-99b0-0ff400aa996d\">\n",
              "    <style>\n",
              "      .colab-df-generate {\n",
              "        background-color: #E8F0FE;\n",
              "        border: none;\n",
              "        border-radius: 50%;\n",
              "        cursor: pointer;\n",
              "        display: none;\n",
              "        fill: #1967D2;\n",
              "        height: 32px;\n",
              "        padding: 0 0 0 0;\n",
              "        width: 32px;\n",
              "      }\n",
              "\n",
              "      .colab-df-generate:hover {\n",
              "        background-color: #E2EBFA;\n",
              "        box-shadow: 0px 1px 2px rgba(60, 64, 67, 0.3), 0px 1px 3px 1px rgba(60, 64, 67, 0.15);\n",
              "        fill: #174EA6;\n",
              "      }\n",
              "\n",
              "      [theme=dark] .colab-df-generate {\n",
              "        background-color: #3B4455;\n",
              "        fill: #D2E3FC;\n",
              "      }\n",
              "\n",
              "      [theme=dark] .colab-df-generate:hover {\n",
              "        background-color: #434B5C;\n",
              "        box-shadow: 0px 1px 3px 1px rgba(0, 0, 0, 0.15);\n",
              "        filter: drop-shadow(0px 1px 2px rgba(0, 0, 0, 0.3));\n",
              "        fill: #FFFFFF;\n",
              "      }\n",
              "    </style>\n",
              "    <button class=\"colab-df-generate\" onclick=\"generateWithVariable('comms_data')\"\n",
              "            title=\"Generate code using this dataframe.\"\n",
              "            style=\"display:none;\">\n",
              "\n",
              "  <svg xmlns=\"http://www.w3.org/2000/svg\" height=\"24px\"viewBox=\"0 0 24 24\"\n",
              "       width=\"24px\">\n",
              "    <path d=\"M7,19H8.4L18.45,9,17,7.55,7,17.6ZM5,21V16.75L18.45,3.32a2,2,0,0,1,2.83,0l1.4,1.43a1.91,1.91,0,0,1,.58,1.4,1.91,1.91,0,0,1-.58,1.4L9.25,21ZM18.45,9,17,7.55Zm-12,3A5.31,5.31,0,0,0,4.9,8.1,5.31,5.31,0,0,0,1,6.5,5.31,5.31,0,0,0,4.9,4.9,5.31,5.31,0,0,0,6.5,1,5.31,5.31,0,0,0,8.1,4.9,5.31,5.31,0,0,0,12,6.5,5.46,5.46,0,0,0,6.5,12Z\"/>\n",
              "  </svg>\n",
              "    </button>\n",
              "    <script>\n",
              "      (() => {\n",
              "      const buttonEl =\n",
              "        document.querySelector('#id_65cd0790-c652-4a3a-99b0-0ff400aa996d button.colab-df-generate');\n",
              "      buttonEl.style.display =\n",
              "        google.colab.kernel.accessAllowed ? 'block' : 'none';\n",
              "\n",
              "      buttonEl.onclick = () => {\n",
              "        google.colab.notebook.generateWithVariable('comms_data');\n",
              "      }\n",
              "      })();\n",
              "    </script>\n",
              "  </div>\n",
              "\n",
              "    </div>\n",
              "  </div>\n"
            ],
            "application/vnd.google.colaboratory.intrinsic+json": {
              "type": "dataframe",
              "variable_name": "comms_data",
              "summary": "{\n  \"name\": \"comms_data\",\n  \"rows\": 435,\n  \"fields\": [\n    {\n      \"column\": \"comments\",\n      \"properties\": {\n        \"dtype\": \"string\",\n        \"num_unique_values\": 420,\n        \"samples\": [\n          \"Surely just laugh at them\",\n          \"https://bitcointicker.co/\",\n          \"yeah I used to have this issue too. after I went all in on btc, it went away\"\n        ],\n        \"semantic_type\": \"\",\n        \"description\": \"\"\n      }\n    }\n  ]\n}"
            }
          },
          "metadata": {},
          "execution_count": 10
        }
      ]
    },
    {
      "cell_type": "markdown",
      "source": [
        "## Text preprocessing:"
      ],
      "metadata": {
        "id": "6jB_WVFpXdzk"
      }
    },
    {
      "cell_type": "code",
      "source": [
        "import gensim\n",
        "import gensim.corpora as corpora\n",
        "from gensim.utils import simple_preprocess\n",
        "from gensim.models import CoherenceModel"
      ],
      "metadata": {
        "id": "_Mk-93PUQZEc"
      },
      "execution_count": 11,
      "outputs": []
    },
    {
      "cell_type": "code",
      "source": [
        "import nltk\n",
        "from nltk.tokenize import word_tokenize\n",
        "from nltk.corpus import stopwords\n",
        "nltk.download('stopwords')\n",
        "stop_words = stopwords.words(\"english\")\n",
        "nltk.download('punkt')\n",
        "nltk.download(\"wordnet\")\n",
        "from nltk.stem.wordnet import WordNetLemmatizer\n",
        "lemmatizer = WordNetLemmatizer()"
      ],
      "metadata": {
        "colab": {
          "base_uri": "https://localhost:8080/"
        },
        "id": "XdpbaFbKQgUa",
        "outputId": "85487ce3-b2f8-4610-d7eb-e33cf32b22e4"
      },
      "execution_count": 12,
      "outputs": [
        {
          "output_type": "stream",
          "name": "stderr",
          "text": [
            "[nltk_data] Downloading package stopwords to /root/nltk_data...\n",
            "[nltk_data]   Package stopwords is already up-to-date!\n",
            "[nltk_data] Downloading package punkt to /root/nltk_data...\n",
            "[nltk_data]   Package punkt is already up-to-date!\n",
            "[nltk_data] Downloading package wordnet to /root/nltk_data...\n",
            "[nltk_data]   Package wordnet is already up-to-date!\n"
          ]
        }
      ]
    },
    {
      "cell_type": "code",
      "source": [
        "import re"
      ],
      "metadata": {
        "id": "ho5QGs8fQ-U-"
      },
      "execution_count": 13,
      "outputs": []
    },
    {
      "cell_type": "code",
      "source": [
        "import warnings\n",
        "warnings.filterwarnings(\"ignore\", category=DeprecationWarning)"
      ],
      "metadata": {
        "id": "0tFb2037V0_K"
      },
      "execution_count": 14,
      "outputs": []
    },
    {
      "cell_type": "code",
      "source": [
        "def review_processed(text):\n",
        "  text = re.sub(r'\\n|\\r|<.*?>|{.*?}|[.*?]|u/', '', text)\n",
        "  text = re.sub(r\"[^\\w]\", \" \", text)\n",
        "  #text = re.sub(r\"[\\d]\", \"\", text)\n",
        "  tokens = word_tokenize(text, language='english')\n",
        "  tokens = [token for token in tokens if len(token) > 1]\n",
        "  tokens = [token.lower() for token in tokens]\n",
        "  tokens = [token for token in tokens if token not in stop_words]\n",
        "\n",
        "  lemmas = [lemmatizer.lemmatize(token) for token in tokens]\n",
        "  lemmas = ' '.join(lemmas)\n",
        "  lemmas = lemmas.split()\n",
        "  return lemmas"
      ],
      "metadata": {
        "id": "TIrPZU7yP45t"
      },
      "execution_count": 15,
      "outputs": []
    },
    {
      "cell_type": "code",
      "source": [
        "cleaned_data = comms_data['comments'].apply(review_processed)"
      ],
      "metadata": {
        "id": "CQj4UQM4Q03R"
      },
      "execution_count": 16,
      "outputs": []
    },
    {
      "cell_type": "code",
      "source": [
        "cleaned_data = cleaned_data.to_list()"
      ],
      "metadata": {
        "id": "7aq2EuP8Ru1w"
      },
      "execution_count": 17,
      "outputs": []
    },
    {
      "cell_type": "code",
      "source": [
        "bigram = gensim.models.Phrases(cleaned_data, min_count = 2, threshold = 5)\n",
        "trigram = gensim.models.Phrases(bigram[cleaned_data])"
      ],
      "metadata": {
        "id": "yySR-OsZ_3ow"
      },
      "execution_count": 18,
      "outputs": []
    },
    {
      "cell_type": "code",
      "source": [
        "bigram_mod = gensim.models.phrases.Phraser(bigram)\n",
        "trigram_mod = gensim.models.phrases.Phraser(trigram)"
      ],
      "metadata": {
        "id": "XomB5ws_99np"
      },
      "execution_count": 19,
      "outputs": []
    },
    {
      "cell_type": "code",
      "source": [
        "print(bigram_mod[bigram_mod[cleaned_data[54]]])"
      ],
      "metadata": {
        "id": "QX9uYptODzqX",
        "colab": {
          "base_uri": "https://localhost:8080/"
        },
        "outputId": "b3e4b089-5fbf-418a-9c4f-58120a32c91e"
      },
      "execution_count": 20,
      "outputs": [
        {
          "output_type": "stream",
          "name": "stdout",
          "text": [
            "['keep', 'stacking']\n"
          ]
        }
      ]
    },
    {
      "cell_type": "code",
      "source": [
        "print(trigram_mod[cleaned_data[1]])"
      ],
      "metadata": {
        "id": "6cg44vJCBBy0",
        "colab": {
          "base_uri": "https://localhost:8080/"
        },
        "outputId": "5910b201-8023-4d85-e192-f2a1143ac205"
      },
      "execution_count": 21,
      "outputs": [
        {
          "output_type": "stream",
          "name": "stdout",
          "text": [
            "['guy', 'spent', 'weekend', 'talking', '125x', 'leveraged', 'short', '65k']\n"
          ]
        }
      ]
    },
    {
      "cell_type": "code",
      "source": [
        "def make_bigrams(texts):\n",
        "    return [bigram_mod[doc] for doc in texts]"
      ],
      "metadata": {
        "id": "RudaToahWChG"
      },
      "execution_count": 22,
      "outputs": []
    },
    {
      "cell_type": "code",
      "source": [
        "def make_trigrams(texts):\n",
        "    return [trigram_mod[bigram_mod[doc]] for doc in texts]"
      ],
      "metadata": {
        "id": "NXZzuup_qA-l"
      },
      "execution_count": 23,
      "outputs": []
    },
    {
      "cell_type": "code",
      "source": [
        "data_words_bigrams = make_bigrams(cleaned_data)"
      ],
      "metadata": {
        "id": "seniJYYKBPsY"
      },
      "execution_count": 24,
      "outputs": []
    },
    {
      "cell_type": "code",
      "source": [
        "data_words_trigrams = make_trigrams(cleaned_data)"
      ],
      "metadata": {
        "id": "fVGecT_ootVG"
      },
      "execution_count": 25,
      "outputs": []
    },
    {
      "cell_type": "code",
      "source": [
        "data_lemmatized = data_words_bigrams"
      ],
      "metadata": {
        "id": "W-JnYxLTSKZ4"
      },
      "execution_count": 26,
      "outputs": []
    },
    {
      "cell_type": "code",
      "source": [
        "id2word = corpora.Dictionary(data_lemmatized)\n",
        "id2word.filter_extremes(no_below=2, no_above=0.99)"
      ],
      "metadata": {
        "id": "o9ZKVfYjB2ZM"
      },
      "execution_count": 27,
      "outputs": []
    },
    {
      "cell_type": "code",
      "source": [
        "# Create Corpus\n",
        "texts = data_lemmatized"
      ],
      "metadata": {
        "id": "qYzdkNQU5tVL"
      },
      "execution_count": 28,
      "outputs": []
    },
    {
      "cell_type": "code",
      "source": [
        "# Term Document Frequency\n",
        "corpus = [id2word.doc2bow(text) for text in texts]"
      ],
      "metadata": {
        "id": "d1km43gg5uVk"
      },
      "execution_count": 29,
      "outputs": []
    },
    {
      "cell_type": "code",
      "source": [
        "# View\n",
        "print(corpus[:1])"
      ],
      "metadata": {
        "colab": {
          "base_uri": "https://localhost:8080/"
        },
        "id": "bbqTrY5y5u34",
        "outputId": "a72ca0c4-73cf-4f3d-babd-98f42d424c95"
      },
      "execution_count": 30,
      "outputs": [
        {
          "output_type": "stream",
          "name": "stdout",
          "text": [
            "[[(0, 1), (1, 1), (2, 1), (3, 1), (4, 1), (5, 1), (6, 1), (7, 1), (8, 1), (9, 1), (10, 1), (11, 1), (12, 2), (13, 1), (14, 1), (15, 1), (16, 1), (17, 1), (18, 1), (19, 1), (20, 1), (21, 1), (22, 1), (23, 2), (24, 1), (25, 1), (26, 1)]]\n"
          ]
        }
      ]
    },
    {
      "cell_type": "code",
      "source": [
        "len(corpus)"
      ],
      "metadata": {
        "id": "g6mqBn8KB8KY",
        "colab": {
          "base_uri": "https://localhost:8080/"
        },
        "outputId": "3742510e-eb8a-46a3-a327-8060413f8c67"
      },
      "execution_count": 31,
      "outputs": [
        {
          "output_type": "execute_result",
          "data": {
            "text/plain": [
              "435"
            ]
          },
          "metadata": {},
          "execution_count": 31
        }
      ]
    },
    {
      "cell_type": "code",
      "source": [
        "id2word[2]"
      ],
      "metadata": {
        "id": "Du4sAJfgB-AA",
        "colab": {
          "base_uri": "https://localhost:8080/",
          "height": 42
        },
        "outputId": "75eef3b3-e72f-4306-aa4f-f62b19f9f85b"
      },
      "execution_count": 32,
      "outputs": [
        {
          "output_type": "execute_result",
          "data": {
            "text/plain": [
              "'almost'"
            ],
            "application/vnd.google.colaboratory.intrinsic+json": {
              "type": "string"
            }
          },
          "metadata": {},
          "execution_count": 32
        }
      ]
    },
    {
      "cell_type": "code",
      "source": [
        "[[(id2word[id], freq) for id, freq in enumerate(cp)] for cp in corpus[:1]]"
      ],
      "metadata": {
        "id": "HuVsvGU3B_uw",
        "colab": {
          "base_uri": "https://localhost:8080/"
        },
        "outputId": "dc1868fa-2901-4b10-8e85-1dfabd978ee3"
      },
      "execution_count": 33,
      "outputs": [
        {
          "output_type": "execute_result",
          "data": {
            "text/plain": [
              "[[('20k', (0, 1)),\n",
              "  ('ago', (1, 1)),\n",
              "  ('almost', (2, 1)),\n",
              "  ('based', (3, 1)),\n",
              "  ('basically', (4, 1)),\n",
              "  ('bitcoin', (5, 1)),\n",
              "  ('cc', (6, 1)),\n",
              "  ('drop', (7, 1)),\n",
              "  ('go', (8, 1)),\n",
              "  ('going', (9, 1)),\n",
              "  ('halvening', (10, 1)),\n",
              "  ('hit', (11, 1)),\n",
              "  ('kept', (12, 2)),\n",
              "  ('later', (13, 1)),\n",
              "  ('like', (14, 1)),\n",
              "  ('minute', (15, 1)),\n",
              "  ('month', (16, 1)),\n",
              "  ('much', (17, 1)),\n",
              "  ('never', (18, 1)),\n",
              "  ('new_ath', (19, 1)),\n",
              "  ('past', (20, 1)),\n",
              "  ('price', (21, 1)),\n",
              "  ('remember', (22, 1)),\n",
              "  ('said', (23, 2)),\n",
              "  ('ta', (24, 1)),\n",
              "  ('time', (25, 1)),\n",
              "  ('used', (26, 1))]]"
            ]
          },
          "metadata": {},
          "execution_count": 33
        }
      ]
    },
    {
      "cell_type": "code",
      "source": [
        "def compute_coherence_values(dictionary, corpus, texts, limit, start, step):\n",
        "    \"\"\"\n",
        "    Compute c_v coherence for various number of topics\n",
        "\n",
        "    Parameters:\n",
        "    ----------\n",
        "    dictionary : Gensim dictionary\n",
        "    corpus : Gensim corpus\n",
        "    texts : List of input texts\n",
        "    limit : Max num of topics\n",
        "\n",
        "    Returns:\n",
        "    -------\n",
        "    model_list : List of LDA topic models\n",
        "    coherence_values : Coherence values corresponding to the LDA model with respective number of topics\n",
        "    \"\"\"\n",
        "    coherence_values = []\n",
        "    perplexity_values = []\n",
        "    model_list = []\n",
        "    for num_topics in range(start, limit, step):\n",
        "        print(num_topics)\n",
        "        model = gensim.models.ldamodel.LdaModel(corpus=corpus,\n",
        "                                           id2word=id2word,\n",
        "                                           num_topics=num_topics,\n",
        "                                           random_state=100,\n",
        "                                           update_every=1,\n",
        "                                           chunksize=144,\n",
        "                                           passes=10,\n",
        "                                           iterations = 200,\n",
        "                                           alpha='auto', eta='auto')\n",
        "        model_list.append(model)\n",
        "        coherencemodel = CoherenceModel(model=model, texts=texts, dictionary=dictionary, coherence='c_v')\n",
        "        coherence_values.append(coherencemodel.get_coherence())\n",
        "\n",
        "        perplexity_values.append(model.log_perplexity(corpus))\n",
        "\n",
        "    return model_list, coherence_values, perplexity_values"
      ],
      "metadata": {
        "id": "GJnisGnYCNZz"
      },
      "execution_count": 34,
      "outputs": []
    },
    {
      "cell_type": "code",
      "source": [
        "limit=30\n",
        "start=3\n",
        "step=1"
      ],
      "metadata": {
        "id": "1q0sLszqCO5s"
      },
      "execution_count": 35,
      "outputs": []
    },
    {
      "cell_type": "code",
      "source": [
        "model_list, coherence_values, perplexity_values = compute_coherence_values(dictionary=id2word,\n",
        "                                                                           corpus=corpus,\n",
        "                                                                           texts=data_lemmatized,\n",
        "                                                                           limit=limit,\n",
        "                                                                           start=start,\n",
        "                                                                           step=step)"
      ],
      "metadata": {
        "colab": {
          "base_uri": "https://localhost:8080/"
        },
        "id": "wbNckAWX6GI9",
        "outputId": "c7f9cf82-45cd-4936-dc52-75bd6979a8a0"
      },
      "execution_count": 36,
      "outputs": [
        {
          "output_type": "stream",
          "name": "stdout",
          "text": [
            "3\n",
            "4\n",
            "5\n",
            "6\n",
            "7\n",
            "8\n",
            "9\n",
            "10\n",
            "11\n",
            "12\n",
            "13\n",
            "14\n",
            "15\n",
            "16\n",
            "17\n",
            "18\n",
            "19\n",
            "20\n",
            "21\n",
            "22\n",
            "23\n",
            "24\n",
            "25\n",
            "26\n",
            "27\n",
            "28\n",
            "29\n"
          ]
        }
      ]
    },
    {
      "cell_type": "markdown",
      "source": [
        "**Сoherence values:**"
      ],
      "metadata": {
        "id": "YAnxbFFnXsMm"
      }
    },
    {
      "cell_type": "code",
      "source": [
        "import matplotlib.pyplot as plt"
      ],
      "metadata": {
        "id": "nfhzdomyZ1NF"
      },
      "execution_count": 37,
      "outputs": []
    },
    {
      "cell_type": "code",
      "source": [
        "import seaborn as sns"
      ],
      "metadata": {
        "id": "Ns6Vugw0tCbH"
      },
      "execution_count": 38,
      "outputs": []
    },
    {
      "cell_type": "code",
      "source": [
        "sns.set_theme(style='darkgrid')"
      ],
      "metadata": {
        "id": "XcnKcrPIwtU2"
      },
      "execution_count": 39,
      "outputs": []
    },
    {
      "cell_type": "code",
      "source": [
        "x = range(start, limit, step)\n",
        "plt.plot(x, coherence_values)\n",
        "plt.xlabel(\"Num Topics\")\n",
        "plt.ylabel(\"Coherence score\")\n",
        "plt.legend((\"coherence_values\"), loc='best')\n",
        "plt.show()"
      ],
      "metadata": {
        "id": "Ix0BbeGAW9mM",
        "colab": {
          "base_uri": "https://localhost:8080/",
          "height": 458
        },
        "outputId": "123a715d-7f32-4ba0-e231-d56bcb509583"
      },
      "execution_count": 40,
      "outputs": [
        {
          "output_type": "display_data",
          "data": {
            "text/plain": [
              "<Figure size 640x480 with 1 Axes>"
            ],
            "image/png": "[encoded data removed]"
          },
          "metadata": {}
        }
      ]
    },
    {
      "cell_type": "code",
      "source": [
        "best_result_coherence_index = coherence_values.index(max(coherence_values))\n",
        "optimal_model = model_list[best_result_coherence_index]"
      ],
      "metadata": {
        "id": "tCwQwLO1CDkl"
      },
      "execution_count": 41,
      "outputs": []
    },
    {
      "cell_type": "code",
      "source": [
        "model_topics = optimal_model.show_topics(formatted=False)\n",
        "print(f'''The {x[best_result_coherence_index]} topics gives the highest coherence score\n",
        "of {coherence_values[best_result_coherence_index]}''')"
      ],
      "metadata": {
        "colab": {
          "base_uri": "https://localhost:8080/"
        },
        "id": "t6A2HoK46Klr",
        "outputId": "6fcf26b8-20d5-4792-badc-7122c487b826"
      },
      "execution_count": 42,
      "outputs": [
        {
          "output_type": "stream",
          "name": "stdout",
          "text": [
            "The 4 topics gives the highest coherence score\n",
            "of 0.6006260206340508\n"
          ]
        }
      ]
    },
    {
      "cell_type": "markdown",
      "source": [
        "**Perplexity values:**"
      ],
      "metadata": {
        "id": "PzKgBz9VXN9D"
      }
    },
    {
      "cell_type": "code",
      "source": [
        "x = range(start, limit, step)\n",
        "plt.plot(x, perplexity_values)\n",
        "plt.xlabel(\"Num Topics\")\n",
        "plt.ylabel(\"Perplexity Score\")\n",
        "plt.legend((\"perplexity_values\"), loc='best')\n",
        "plt.show()"
      ],
      "metadata": {
        "id": "-fNtj4A8XAsC",
        "colab": {
          "base_uri": "https://localhost:8080/",
          "height": 458
        },
        "outputId": "027debd0-d875-4bde-9b4c-82a0785ed8c1"
      },
      "execution_count": 43,
      "outputs": [
        {
          "output_type": "display_data",
          "data": {
            "text/plain": [
              "<Figure size 640x480 with 1 Axes>"
            ],
            "image/png": "[encoded data removed]"
          },
          "metadata": {}
        }
      ]
    },
    {
      "cell_type": "code",
      "source": [
        "best_result_perplexity_index = perplexity_values.index(min(perplexity_values))\n",
        "optimal_model = model_list[best_result_perplexity_index]"
      ],
      "metadata": {
        "id": "vpdOGjm8XMrX"
      },
      "execution_count": 44,
      "outputs": []
    },
    {
      "cell_type": "code",
      "source": [
        "model_topics = optimal_model.show_topics(formatted=False)\n",
        "print(f'''The {x[best_result_perplexity_index]} topics gives the lowest perplexity score\n",
        "of {perplexity_values[best_result_perplexity_index]}''')"
      ],
      "metadata": {
        "colab": {
          "base_uri": "https://localhost:8080/"
        },
        "id": "259L7Y0B6QFN",
        "outputId": "38d75c5b-27b4-4e9c-bdd6-80532d91b258"
      },
      "execution_count": 45,
      "outputs": [
        {
          "output_type": "stream",
          "name": "stdout",
          "text": [
            "The 29 topics gives the lowest perplexity score\n",
            "of -14.342133746994799\n"
          ]
        }
      ]
    },
    {
      "cell_type": "code",
      "source": [
        "lda_model = gensim.models.ldamodel.LdaModel(corpus=corpus,\n",
        "                                           id2word=id2word,\n",
        "                                           num_topics=x[best_result_coherence_index],\n",
        "                                           random_state=100,\n",
        "                                           update_every=1,\n",
        "                                           chunksize=512,\n",
        "                                           passes=10,\n",
        "                                           iterations = 200,\n",
        "                                           alpha='auto', eta='auto',\n",
        "                                           per_word_topics=True)"
      ],
      "metadata": {
        "id": "y6BxXz9wCCjC"
      },
      "execution_count": 46,
      "outputs": []
    },
    {
      "cell_type": "markdown",
      "source": [
        "## Topics:"
      ],
      "metadata": {
        "id": "hyHv8FxaXmLX"
      }
    },
    {
      "cell_type": "code",
      "source": [
        "#%pip install pyLDAvis"
      ],
      "metadata": {
        "id": "5eE_cOFiCPwQ"
      },
      "execution_count": 47,
      "outputs": []
    },
    {
      "cell_type": "code",
      "source": [
        "#!pip install pandas==1.5.3"
      ],
      "metadata": {
        "id": "_rk0F1nTGB4X"
      },
      "execution_count": 48,
      "outputs": []
    },
    {
      "cell_type": "code",
      "source": [
        "import pyLDAvis\n",
        "import pyLDAvis.gensim_models\n",
        "import matplotlib.pyplot as plt\n",
        "%matplotlib inline"
      ],
      "metadata": {
        "id": "FEov8qL1Cgrm"
      },
      "execution_count": 49,
      "outputs": []
    },
    {
      "cell_type": "code",
      "source": [
        "pyLDAvis.enable_notebook()\n",
        "vis = pyLDAvis.gensim_models.prepare(lda_model, corpus, id2word)\n",
        "vis"
      ],
      "metadata": {
        "id": "RTw_c0H2CIDk",
        "colab": {
          "base_uri": "https://localhost:8080/",
          "height": 968
        },
        "outputId": "90f61d0b-e833-418e-aa60-4b86bdcb2c88"
      },
      "execution_count": 50,
      "outputs": [
        {
          "output_type": "stream",
          "name": "stderr",
          "text": [
            "/usr/local/lib/python3.10/dist-packages/ipykernel/ipkernel.py:283: DeprecationWarning: `should_run_async` will not call `transform_cell` automatically in the future. Please pass the result to `transformed_cell` argument and any exception that happen during thetransform in `preprocessing_exc_tuple` in IPython 7.17 and above.\n",
            "  and should_run_async(code)\n",
            "/usr/local/lib/python3.10/dist-packages/pandas/core/dtypes/cast.py:1641: DeprecationWarning: np.find_common_type is deprecated.  Please use `np.result_type` or `np.promote_types`.\n",
            "See https://numpy.org/devdocs/release/1.25.0-notes.html and the docs for more information.  (Deprecated NumPy 1.25)\n",
            "  return np.find_common_type(types, [])\n"
          ]
        },
        {
          "output_type": "execute_result",
          "data": {
            "text/plain": [
              "PreparedData(topic_coordinates=              x         y  topics  cluster       Freq\n",
              "topic                                                \n",
              "0      0.108695 -0.023063       1        1  30.103083\n",
              "1     -0.128274 -0.030111       2        1  29.105927\n",
              "2      0.018714 -0.078520       3        1  23.406897\n",
              "3      0.000864  0.131694       4        1  17.384093, topic_info=         Term       Freq      Total Category  logprob  loglift\n",
              "277  firmware  13.000000  13.000000  Default  30.0000  30.0000\n",
              "5     bitcoin  48.000000  48.000000  Default  29.0000  29.0000\n",
              "182   deleted  11.000000  11.000000  Default  28.0000  28.0000\n",
              "232      nice   6.000000   6.000000  Default  27.0000  27.0000\n",
              "121      week  11.000000  11.000000  Default  26.0000  26.0000\n",
              "..        ...        ...        ...      ...      ...      ...\n",
              "169       buy   2.889397  12.099133   Topic4  -4.9485   0.3175\n",
              "9       going   2.619007  12.079285   Topic4  -5.0468   0.2209\n",
              "300      know   2.427677   7.223333   Topic4  -5.1226   0.6592\n",
              "432       one   2.426157  11.227061   Topic4  -5.1233   0.2176\n",
              "207  coinbase   2.425605   6.359378   Topic4  -5.1235   0.7858\n",
              "\n",
              "[255 rows x 6 columns], token_table=      Topic      Freq    Term\n",
              "term                         \n",
              "166       1  0.963269     000\n",
              "530       3  0.826898  0xffff\n",
              "314       1  0.127668    100k\n",
              "314       2  0.127668    100k\n",
              "314       3  0.255337    100k\n",
              "...     ...       ...     ...\n",
              "378       2  0.144358    yeah\n",
              "378       3  0.144358    yeah\n",
              "378       4  0.721788    yeah\n",
              "205       2  0.606707    year\n",
              "205       3  0.364024    year\n",
              "\n",
              "[361 rows x 3 columns], R=30, lambda_step=0.01, plot_opts={'xlab': 'PC1', 'ylab': 'PC2'}, topic_order=[1, 2, 3, 4])"
            ],
            "text/html": [
              "\n",
              "<link rel=\"stylesheet\" type=\"text/css\" href=\"https://cdn.jsdelivr.net/gh/bmabey/pyLDAvis@3.4.0/pyLDAvis/js/ldavis.v1.0.0.css\">\n",
              "\n",
              "\n",
              "<div id=\"ldavis_el169461385365696819846414465591\" style=\"background-color:white;\"></div>\n",
              "<script type=\"text/javascript\">\n",
              "\n",
              "var ldavis_el169461385365696819846414465591_data = {\"mdsDat\": {\"x\": [0.1086951321521906, -0.12827354871677635, 0.018714304762771014, 0.0008641118018147854], \"y\": [-0.023062820713726968, -0.03011114341781622, -0.07851988658404276, 0.13169385071558598], \"topics\": [1, 2, 3, 4], \"cluster\": [1, 1, 1, 1], \"Freq\": [30.10308343298383, 29.10592735259239, 23.406896505622687, 17.384092708801095]}, \"tinfo\": {\"Term\": [\"firmware\", \"bitcoin\", \"deleted\", \"nice\", \"week\", \"sat\", \"today\", \"like\", \"chart\", \"wallet\", \"yeah\", \"seller\", \"ffff_ffff\", \"daily\", \"70k\", \"lol\", \"btc\", \"good\", \"people\", \"http\", \"private_key\", \"address\", \"sure\", \"bought\", \"etf\", \"meme\", \"someone\", \"chance\", \"know\", \"ta\", \"sat\", \"term\", \"chart\", \"model\", \"000\", \"daily\", \"already\", \"largest\", \"offering\", \"regret\", \"minute\", \"town\", \"moment\", \"entire\", \"appreciate\", \"work_good\", \"69_420\", \"love\", \"power_law\", \"exposure\", \"bear\", \"70k\", \"historical\", \"american\", \"sometimes\", \"miner\", \"south\", \"worth\", \"intend\", \"waking\", \"could\", \"see\", \"etf\", \"let\", \"2024\", \"bitcoin\", \"new\", \"per\", \"happy\", \"talking\", \"buy\", \"ta\", \"price\", \"short\", \"think\", \"day\", \"point\", \"go\", \"every\", \"going\", \"selling\", \"back\", \"people\", \"today\", \"btc\", \"firmware\", \"deleted\", \"release\", \"least\", \"ledger\", \"comment\", \"support\", \"ledger_support\", \"news\", \"removed\", \"code\", \"backdoor\", \"cold\", \"real\", \"signed\", \"verify\", \"build\", \"course\", \"stacking\", \"trezor\", \"open_source\", \"mean\", \"stop\", \"letter\", \"good\", \"extract\", \"coldcard\", \"1m\", \"waiting\", \"estate\", \"long\", \"question\", \"acquire\", \"key\", \"probably\", \"year\", \"time\", \"would\", \"like\", \"still\", \"price\", \"gon_na\", \"know\", \"around\", \"said\", \"day\", \"get\", \"btc\", \"happen\", \"make\", \"take\", \"bitcoin\", \"asset\", \"even\", \"ffff_ffff\", \"meme\", \"laura\", \"public_key\", \"coin\", \"15\", \"might\", \"half\", \"valid_private\", \"week\", \"private_key\", \"sure\", \"d036\", \"af48\", \"bfd2\", \"fffe\", \"baae\", \"0xffff\", \"a03b\", \"5e8c\", \"4140\", \"dce6\", \"famous\", \"fine\", \"average\", \"50\", \"trader\", \"nothing\", \"allow\", \"soon\", \"well\", \"seems\", \"people\", \"http\", \"bought\", \"really\", \"btc\", \"69\", \"company\", \"crash\", \"address\", \"thank\", \"fun\", \"though\", \"one\", \"trust\", \"high\", \"selling\", \"bitcoin\", \"last\", \"would\", \"like\", \"going\", \"think\", \"right\", \"mstr\", \"get\", \"back\", \"nice\", \"seller\", \"life\", \"thanks\", \"bull_market\", \"crystal_ball\", \"seed\", \"blue\", \"delete\", \"posted\", \"sunny\", \"bottom\", \"101\", \"cloud\", \"caused\", \"wife\", \"sex\", \"sitting\", \"neck\", \"halving\", \"71\", \"withdraw\", \"winning\", \"bet\", \"play\", \"bitcoins\", \"99k\", \"yeah\", \"away\", \"lol\", \"issue\", \"wallet\", \"today\", \"chance\", \"got\", \"many\", \"new_ath\", \"100k\", \"hand\", \"someone\", \"like\", \"mstr\", \"grayscale\", \"btc\", \"need\", \"say\", \"get\", \"back\", \"buying\", \"ta\", \"address\", \"enough\", \"think\", \"buy\", \"going\", \"know\", \"one\", \"coinbase\"], \"Freq\": [13.0, 48.0, 11.0, 6.0, 11.0, 8.0, 15.0, 24.0, 9.0, 10.0, 6.0, 4.0, 5.0, 9.0, 9.0, 6.0, 30.0, 10.0, 14.0, 11.0, 6.0, 12.0, 6.0, 8.0, 11.0, 4.0, 6.0, 5.0, 7.0, 11.0, 7.730428192795836, 4.3918677182451535, 8.576036498536542, 3.5480083448692827, 3.5477630016812016, 7.736797919421866, 3.482858725760664, 2.718802561425708, 2.718732604131114, 2.718728334437078, 2.718725378495053, 2.7186976254838178, 2.7186746348236226, 2.71866724496856, 2.718516491925281, 2.718486275629025, 2.7178382674495283, 2.7111834566370803, 2.703891476099227, 2.6563646906870906, 5.228076785222132, 7.68146202783649, 1.882197398217369, 1.882175557090184, 1.8821742433381727, 1.8821729295861616, 1.882160613161057, 1.8821537159629986, 1.8821494462689623, 1.8821407426618886, 4.362714904241871, 6.185148409720305, 8.460009862168368, 6.065730322535364, 6.058343094976704, 31.925337855072396, 7.852225484872958, 3.5556911666304507, 4.391964279017973, 3.5046496019315008, 6.3560084275295905, 6.064193889558331, 7.741518230397905, 4.378611960452714, 6.910796048695468, 6.168195096892501, 3.556056061251546, 4.385341326691795, 3.5556530678221274, 4.393896808226365, 4.145806564689988, 4.069620771811757, 4.275928117947719, 3.9243181571892567, 3.556059345631574, 12.738597251313248, 11.069640150503796, 4.386539338057801, 4.384657803427937, 4.378687701986344, 4.341068759056801, 4.3307115857314, 3.5527448088501594, 3.552723214866222, 3.5509537784176817, 3.5504367930375267, 3.549858201291432, 3.510435208027331, 2.71671752521508, 2.7156362382252595, 2.715596860960432, 2.7153374155945924, 2.7133841127239946, 2.708927177950976, 2.7045305793095475, 2.7045197823175786, 2.7024670836091502, 2.702959616978082, 2.663888161070143, 8.477842552133822, 1.8808304436963015, 1.8808131367532925, 1.8807861442733707, 1.880761692262147, 1.8807618510414406, 5.22001789647106, 4.017075164524609, 3.517364653961214, 4.984462780714208, 5.830266423018482, 5.224195697245825, 6.7935886541732255, 8.560776787915165, 10.78833786221639, 4.3624963422947225, 8.565668460394225, 5.225200452616102, 4.357040368205999, 3.828452985063359, 5.203357820304555, 6.793560709017541, 6.897593537340343, 8.904647009544814, 4.383305638963134, 4.381121470999555, 4.382408218395371, 6.417491316868119, 4.117269027085315, 4.093099007887309, 5.038870472480321, 4.197920414924927, 3.3982455794741138, 2.620181989918859, 2.6201531320205533, 2.6201278494370825, 2.620123763362986, 2.620002713417882, 2.572874700929553, 8.984971503819871, 5.018230690701167, 4.993640186030112, 1.8139488778535988, 1.8139484947841524, 1.8139450471591336, 1.813943897950794, 1.8139408333952216, 1.81393917342762, 1.8139370027007564, 1.8139354704229702, 1.8139353427331548, 1.8139350873535236, 1.8139195091960314, 1.8139131247052558, 1.813903164899646, 1.813861665709605, 1.813848385968792, 1.813796926973141, 1.813616373574009, 1.8068297875694295, 3.41494587506513, 3.3925833022951064, 8.247706853357341, 6.649946665279191, 5.029590998207525, 3.4193767116633524, 11.963759359276462, 2.620293080058353, 4.084977240827906, 2.6201227418444617, 5.827334652888555, 2.604476397990671, 3.2403915988452923, 2.57515907172904, 5.040518181859671, 3.4006576400891113, 3.8867743000162207, 4.294033305198742, 8.723101144096384, 3.412862998794519, 5.011919238500103, 5.274545521931414, 4.021747031844414, 4.2324668945113535, 3.4269142414729505, 3.4263437233772485, 3.4263309543956972, 2.9349848857641616, 6.1471646749505355, 3.8808326315096955, 2.4250602123006564, 2.4250042601910606, 2.4249475494087926, 2.406230904910457, 1.6788971038455895, 1.6788874307690154, 1.6788800337104586, 1.6788747230017513, 1.6788656189296816, 1.678859928884638, 1.6788407723996577, 1.678831668327588, 1.6788225642555181, 1.6788199089011644, 1.6787404379387216, 1.6787068666729643, 1.6786903655423377, 1.6785593048381662, 1.6723112560439286, 1.6722812884733655, 1.6721944204523662, 1.672330791865245, 1.6634057665461495, 1.6582557067771635, 1.603803872391343, 4.650227624873383, 1.4975106066175494, 3.9024092823151255, 2.4266041111891603, 5.223495490319014, 7.264472161798033, 3.1654989457736673, 3.1454062587156146, 3.0792295175128985, 2.4065040270725513, 3.8292417517718103, 2.3510571934767683, 3.1712688411160723, 6.7177362177181585, 3.917956002719657, 2.8480968531501167, 6.1625915250728145, 3.1664977383469917, 3.0230900157671385, 3.916634394924191, 3.167163473617096, 2.4251307688591974, 3.1639176822560438, 3.171885072994297, 2.4270862476725235, 3.1638653338416423, 2.889397096758436, 2.619007483962501, 2.4276772536843882, 2.426157063316899, 2.4256051289476677], \"Total\": [13.0, 48.0, 11.0, 6.0, 11.0, 8.0, 15.0, 24.0, 9.0, 10.0, 6.0, 4.0, 5.0, 9.0, 9.0, 6.0, 30.0, 10.0, 14.0, 11.0, 6.0, 12.0, 6.0, 8.0, 11.0, 4.0, 6.0, 5.0, 7.0, 11.0, 8.335504667128061, 4.989153811743998, 9.918457420139793, 4.152537304291888, 4.152528399080916, 9.171168751202774, 4.149753767049344, 3.315962965233131, 3.315956746357301, 3.3159577481414626, 3.3159571576584197, 3.3159558507021116, 3.315952853300081, 3.315952509328954, 3.3159371851869492, 3.315936504990582, 3.315880928360545, 3.3159160645368866, 3.3156568018083954, 3.309204723416045, 6.571926281428184, 9.825893022950194, 2.4793600662516013, 2.479357302459595, 2.4793564480508725, 2.4793572996817743, 2.4793565509744524, 2.479356975240151, 2.4793546395229638, 2.4793532623256986, 5.792993700086595, 8.279103427258065, 11.51948971355649, 8.334155276089874, 8.333919968821538, 48.814066732995855, 11.589335411374087, 4.958727445903125, 6.660970526949256, 4.896960251803462, 12.099132754889716, 11.260588410552678, 18.30754426866585, 7.2278533343068005, 16.18775722982111, 15.588749025079652, 5.732678901811391, 10.691327127962841, 6.63056591894948, 12.079285384146754, 10.689532406917744, 10.381335688806757, 14.621585514259367, 15.779585986330094, 30.587057239525663, 13.34470245404845, 11.673468079811332, 4.985799969058228, 4.985802503339062, 4.985631953714441, 4.983179875323086, 4.986006303305062, 4.150060550281111, 4.150059356709576, 4.149933252094134, 4.149811857049409, 4.149749357886614, 4.1460202808983215, 3.314081499788858, 3.313964016945477, 3.3139592836364598, 3.3139337118566927, 3.3137234602005576, 3.3132661833271255, 3.3135783586081016, 3.3135775552290894, 3.312554547721682, 3.313789525784421, 3.3121766017108536, 10.717893421099356, 2.478113729928577, 2.47811244800738, 2.478109481758233, 2.4781063903919365, 2.478107271808172, 7.464125751318491, 5.778849181479471, 4.985257229453208, 7.4258757421959265, 9.008249114008686, 8.241214391331978, 11.552346035290366, 16.422640641902344, 24.077464774159196, 6.567770940900914, 18.30754426866585, 8.98704551769756, 7.2233328809348, 5.8228222666536205, 9.822444119494438, 15.588749025079652, 16.123186210223245, 30.587057239525663, 8.210906235484382, 8.27148377861364, 9.026718228997275, 48.814066732995855, 8.249861764574169, 8.18119244375838, 5.6436649846955165, 4.838710530663542, 4.030184028560057, 3.224925942946137, 3.2249254563578362, 3.224924582052766, 3.2249230964514157, 3.224920155932331, 3.226634347382383, 11.34934768106953, 6.390591074033428, 6.481847908643621, 2.4186780631100935, 2.418678156067095, 2.418678392710096, 2.41867797782028, 2.4186777927341745, 2.4186780199628637, 2.4186773766027674, 2.41867739576975, 2.41867736334733, 2.4186778346211977, 2.418676789910865, 2.4186769908209924, 2.418676446389363, 2.4186743663325996, 2.4186732955053585, 2.4186715625695236, 2.4186660077723006, 2.418897782389809, 4.777735034801875, 4.868278514238859, 14.621585514259367, 11.436438518526288, 8.990242157908261, 5.52460372736911, 30.587057239525663, 3.97111446198893, 7.351815178365948, 4.061411627425079, 12.781667290006963, 4.061896933443176, 5.710370305260096, 4.062440055324923, 11.227061465699816, 6.536156920296721, 8.941324996570824, 10.689532406917744, 48.814066732995855, 7.195953460975776, 16.422640641902344, 24.077464774159196, 12.079285384146754, 16.18775722982111, 9.61671000296623, 11.107187777056637, 16.123186210223245, 10.381335688806757, 6.777071195826909, 4.541773597704214, 3.0449158665872074, 3.044920343805927, 3.044925310584863, 3.047161105606171, 2.29867586529861, 2.2986757479276463, 2.298677625820223, 2.29867741520932, 2.2986780392970685, 2.2986784111719913, 2.2986799741999038, 2.298680782490175, 2.2986806144645175, 2.2986800867145014, 2.2986870793328764, 2.298692027832855, 2.2986917452168676, 2.298694702368108, 2.299196103154893, 2.29919842280029, 2.29920031502791, 2.299457359439238, 2.300530682779492, 2.300485419302349, 2.3076734553128624, 6.9272456060123755, 2.319012974333085, 6.210999975913829, 3.880595515309194, 10.164479011934478, 15.779585986330094, 5.463421603763325, 5.436284811071297, 5.444260638527245, 3.883164542594825, 7.832800646023779, 3.859948352274114, 6.298975111872161, 24.077464774159196, 11.107187777056637, 6.3368402050028365, 30.587057239525663, 8.7779392770891, 7.960192898014794, 16.123186210223245, 10.381335688806757, 5.553239258498386, 11.260588410552678, 12.781667290006963, 6.359167583011631, 16.18775722982111, 12.099132754889716, 12.079285384146754, 7.2233328809348, 11.227061465699816, 6.359377711264203], \"Category\": [\"Default\", \"Default\", \"Default\", \"Default\", \"Default\", \"Default\", \"Default\", \"Default\", \"Default\", \"Default\", \"Default\", \"Default\", \"Default\", \"Default\", \"Default\", \"Default\", \"Default\", \"Default\", \"Default\", \"Default\", \"Default\", \"Default\", \"Default\", \"Default\", \"Default\", \"Default\", \"Default\", \"Default\", \"Default\", \"Default\", \"Topic1\", \"Topic1\", \"Topic1\", \"Topic1\", \"Topic1\", \"Topic1\", \"Topic1\", \"Topic1\", \"Topic1\", \"Topic1\", \"Topic1\", \"Topic1\", \"Topic1\", \"Topic1\", \"Topic1\", \"Topic1\", \"Topic1\", \"Topic1\", \"Topic1\", \"Topic1\", \"Topic1\", \"Topic1\", \"Topic1\", \"Topic1\", \"Topic1\", \"Topic1\", \"Topic1\", \"Topic1\", \"Topic1\", \"Topic1\", \"Topic1\", \"Topic1\", \"Topic1\", \"Topic1\", \"Topic1\", \"Topic1\", \"Topic1\", \"Topic1\", \"Topic1\", \"Topic1\", \"Topic1\", \"Topic1\", \"Topic1\", \"Topic1\", \"Topic1\", \"Topic1\", \"Topic1\", \"Topic1\", \"Topic1\", \"Topic1\", \"Topic1\", \"Topic1\", \"Topic1\", \"Topic1\", \"Topic1\", \"Topic2\", \"Topic2\", \"Topic2\", \"Topic2\", \"Topic2\", \"Topic2\", \"Topic2\", \"Topic2\", \"Topic2\", \"Topic2\", \"Topic2\", \"Topic2\", \"Topic2\", \"Topic2\", \"Topic2\", \"Topic2\", \"Topic2\", \"Topic2\", \"Topic2\", \"Topic2\", \"Topic2\", \"Topic2\", \"Topic2\", \"Topic2\", \"Topic2\", \"Topic2\", \"Topic2\", \"Topic2\", \"Topic2\", \"Topic2\", \"Topic2\", \"Topic2\", \"Topic2\", \"Topic2\", \"Topic2\", \"Topic2\", \"Topic2\", \"Topic2\", \"Topic2\", \"Topic2\", \"Topic2\", \"Topic2\", \"Topic2\", \"Topic2\", \"Topic2\", \"Topic2\", \"Topic2\", \"Topic2\", \"Topic2\", \"Topic2\", \"Topic2\", \"Topic2\", \"Topic2\", \"Topic2\", \"Topic3\", \"Topic3\", \"Topic3\", \"Topic3\", \"Topic3\", \"Topic3\", \"Topic3\", \"Topic3\", \"Topic3\", \"Topic3\", \"Topic3\", \"Topic3\", \"Topic3\", \"Topic3\", \"Topic3\", \"Topic3\", \"Topic3\", \"Topic3\", \"Topic3\", \"Topic3\", \"Topic3\", \"Topic3\", \"Topic3\", \"Topic3\", \"Topic3\", \"Topic3\", \"Topic3\", \"Topic3\", \"Topic3\", \"Topic3\", \"Topic3\", \"Topic3\", \"Topic3\", \"Topic3\", \"Topic3\", \"Topic3\", \"Topic3\", \"Topic3\", \"Topic3\", \"Topic3\", \"Topic3\", \"Topic3\", \"Topic3\", \"Topic3\", \"Topic3\", \"Topic3\", \"Topic3\", \"Topic3\", \"Topic3\", \"Topic3\", \"Topic3\", \"Topic3\", \"Topic3\", \"Topic3\", \"Topic3\", \"Topic3\", \"Topic3\", \"Topic3\", \"Topic4\", \"Topic4\", \"Topic4\", \"Topic4\", \"Topic4\", \"Topic4\", \"Topic4\", \"Topic4\", \"Topic4\", \"Topic4\", \"Topic4\", \"Topic4\", \"Topic4\", \"Topic4\", \"Topic4\", \"Topic4\", \"Topic4\", \"Topic4\", \"Topic4\", \"Topic4\", \"Topic4\", \"Topic4\", \"Topic4\", \"Topic4\", \"Topic4\", \"Topic4\", \"Topic4\", \"Topic4\", \"Topic4\", \"Topic4\", \"Topic4\", \"Topic4\", \"Topic4\", \"Topic4\", \"Topic4\", \"Topic4\", \"Topic4\", \"Topic4\", \"Topic4\", \"Topic4\", \"Topic4\", \"Topic4\", \"Topic4\", \"Topic4\", \"Topic4\", \"Topic4\", \"Topic4\", \"Topic4\", \"Topic4\", \"Topic4\", \"Topic4\", \"Topic4\", \"Topic4\", \"Topic4\", \"Topic4\", \"Topic4\", \"Topic4\", \"Topic4\"], \"logprob\": [30.0, 29.0, 28.0, 27.0, 26.0, 25.0, 24.0, 23.0, 22.0, 21.0, 20.0, 19.0, 18.0, 17.0, 16.0, 15.0, 14.0, 13.0, 12.0, 11.0, 10.0, 9.0, 8.0, 7.0, 6.0, 5.0, 4.0, 3.0, 2.0, 1.0, -4.5135, -5.0789, -4.4097, -5.2923, -5.2923, -4.5127, -5.3108, -5.5585, -5.5585, -5.5585, -5.5585, -5.5585, -5.5585, -5.5585, -5.5586, -5.5586, -5.5588, -5.5613, -5.564, -5.5817, -4.9046, -4.5198, -5.9262, -5.9262, -5.9262, -5.9262, -5.9262, -5.9262, -5.9262, -5.9262, -5.0856, -4.7365, -4.4233, -4.756, -4.7572, -3.0952, -4.4978, -5.2901, -5.0789, -5.3046, -4.7092, -4.7562, -4.512, -5.0819, -4.6256, -4.7392, -5.29, -5.0804, -5.2901, -5.0784, -5.1365, -5.1551, -5.1056, -5.1915, -5.29, -3.9803, -4.1208, -5.0464, -5.0468, -5.0482, -5.0568, -5.0592, -5.2572, -5.2572, -5.2577, -5.2579, -5.2581, -5.2692, -5.5255, -5.5259, -5.5259, -5.526, -5.5268, -5.5284, -5.53, -5.53, -5.5308, -5.5306, -5.5452, -4.3875, -5.8932, -5.8933, -5.8933, -5.8933, -5.8933, -4.8725, -5.1344, -5.2672, -4.9186, -4.7619, -4.8717, -4.609, -4.3778, -4.1465, -5.0519, -4.3772, -4.8715, -5.0532, -5.1825, -4.8757, -4.609, -4.5938, -4.3384, -5.0472, -5.0477, -5.0474, -4.6659, -5.1098, -5.1157, -4.6899, -4.8725, -5.0838, -5.3438, -5.3438, -5.3438, -5.3438, -5.3439, -5.362, -4.1115, -4.694, -4.6989, -5.7115, -5.7115, -5.7115, -5.7115, -5.7115, -5.7115, -5.7115, -5.7115, -5.7115, -5.7115, -5.7116, -5.7116, -5.7116, -5.7116, -5.7116, -5.7116, -5.7117, -5.7155, -5.0789, -5.0855, -4.1971, -4.4124, -4.6917, -5.0776, -3.8252, -5.3438, -4.8997, -5.3438, -4.5445, -5.3498, -5.1314, -5.3611, -4.6895, -5.0831, -4.9495, -4.8498, -4.1411, -5.0795, -4.6952, -4.6442, -4.9153, -4.8643, -5.0754, -5.0756, -5.0756, -5.2303, -4.1936, -4.6535, -5.1237, -5.1237, -5.1238, -5.1315, -5.4914, -5.4914, -5.4914, -5.4914, -5.4915, -5.4915, -5.4915, -5.4915, -5.4915, -5.4915, -5.4915, -5.4915, -5.4916, -5.4916, -5.4954, -5.4954, -5.4954, -5.4954, -5.5007, -5.5038, -5.5372, -4.4727, -5.6058, -4.648, -5.1231, -4.3564, -4.0266, -4.8573, -4.8636, -4.8849, -5.1314, -4.6669, -5.1547, -4.8554, -4.1048, -4.644, -4.9629, -4.1911, -4.8569, -4.9033, -4.6443, -4.8567, -5.1237, -4.8578, -4.8552, -5.1229, -4.8578, -4.9485, -5.0468, -5.1226, -5.1233, -5.1235], \"loglift\": [30.0, 29.0, 28.0, 27.0, 26.0, 25.0, 24.0, 23.0, 22.0, 21.0, 20.0, 19.0, 18.0, 17.0, 16.0, 15.0, 14.0, 13.0, 12.0, 11.0, 10.0, 9.0, 8.0, 7.0, 6.0, 5.0, 4.0, 3.0, 2.0, 1.0, 1.1252, 1.073, 1.0551, 1.0432, 1.0431, 1.0305, 1.0253, 1.002, 1.002, 1.002, 1.002, 1.0019, 1.0019, 1.0019, 1.0019, 1.0019, 1.0017, 0.9992, 0.9966, 0.9808, 0.9718, 0.9543, 0.925, 0.925, 0.925, 0.925, 0.925, 0.925, 0.925, 0.925, 0.917, 0.909, 0.8919, 0.8828, 0.8816, 0.7759, 0.8113, 0.8679, 0.7841, 0.866, 0.5568, 0.5816, 0.3398, 0.6993, 0.3494, 0.2734, 0.723, 0.3094, 0.5774, 0.1893, 0.2534, 0.2641, -0.029, -0.191, -0.9514, 1.1877, 1.1811, 1.1062, 1.1057, 1.1044, 1.0963, 1.0933, 1.0788, 1.0788, 1.0784, 1.0782, 1.0781, 1.0678, 1.0355, 1.0351, 1.0351, 1.035, 1.0344, 1.0328, 1.0311, 1.0311, 1.0307, 1.0305, 1.0164, 0.9998, 0.9584, 0.9584, 0.9584, 0.9584, 0.9584, 0.8766, 0.8706, 0.8855, 0.8356, 0.7992, 0.7784, 0.7033, 0.5828, 0.4314, 0.8251, 0.4747, 0.6919, 0.7287, 0.8149, 0.5989, 0.4037, 0.3851, 0.0002, 0.6066, 0.5987, 0.5116, -0.7948, 0.5392, 0.5417, 1.3388, 1.3101, 1.2816, 1.2445, 1.2445, 1.2445, 1.2445, 1.2444, 1.2257, 1.2185, 1.2104, 1.1913, 1.1644, 1.1644, 1.1644, 1.1644, 1.1644, 1.1644, 1.1644, 1.1644, 1.1644, 1.1644, 1.1644, 1.1644, 1.1644, 1.1644, 1.1644, 1.1643, 1.1642, 1.1604, 1.1163, 1.091, 0.8796, 0.9099, 0.8713, 0.9724, 0.5134, 1.0364, 0.8645, 1.0138, 0.6667, 1.0077, 0.8855, 0.9963, 0.6513, 0.7988, 0.619, 0.5401, -0.2699, 0.7062, 0.2653, -0.0662, 0.3524, 0.1107, 0.4203, 0.276, -0.0966, 0.1888, 1.6521, 1.5923, 1.522, 1.522, 1.5219, 1.5135, 1.4354, 1.4354, 1.4354, 1.4354, 1.4354, 1.4354, 1.4354, 1.4354, 1.4354, 1.4354, 1.4353, 1.4353, 1.4353, 1.4352, 1.4313, 1.4312, 1.4312, 1.4312, 1.4253, 1.4223, 1.3858, 1.3511, 1.3123, 1.2849, 1.2801, 1.0839, 0.9739, 1.2039, 1.2025, 1.1797, 1.2711, 1.034, 1.2538, 1.0634, 0.4731, 0.7076, 0.9499, 0.1475, 0.73, 0.7814, 0.3346, 0.5624, 0.9211, 0.4801, 0.3559, 0.7864, 0.1172, 0.3175, 0.2209, 0.6592, 0.2176, 0.7858]}, \"token.table\": {\"Topic\": [1, 3, 1, 2, 3, 4, 4, 3, 2, 1, 2, 3, 3, 3, 3, 4, 1, 1, 4, 4, 4, 3, 1, 2, 1, 3, 4, 3, 3, 1, 1, 1, 1, 2, 1, 2, 3, 3, 4, 3, 1, 3, 4, 2, 1, 4, 4, 3, 1, 2, 3, 4, 4, 4, 4, 1, 3, 1, 2, 3, 4, 2, 4, 1, 3, 4, 1, 2, 4, 4, 2, 4, 1, 4, 4, 2, 3, 1, 2, 3, 4, 2, 2, 2, 1, 2, 3, 1, 3, 2, 1, 3, 4, 3, 1, 2, 1, 2, 4, 3, 4, 2, 1, 2, 3, 4, 1, 2, 1, 3, 4, 1, 2, 3, 4, 1, 2, 3, 1, 2, 3, 3, 3, 3, 2, 1, 2, 3, 1, 2, 3, 4, 1, 2, 3, 4, 1, 2, 3, 4, 2, 3, 4, 2, 3, 4, 2, 3, 4, 1, 2, 4, 3, 4, 3, 4, 1, 2, 3, 4, 1, 2, 1, 2, 3, 4, 1, 1, 2, 3, 1, 2, 4, 2, 3, 2, 4, 1, 2, 3, 4, 3, 2, 2, 2, 1, 2, 2, 4, 1, 2, 3, 4, 2, 4, 1, 2, 3, 1, 1, 2, 3, 2, 3, 4, 2, 3, 3, 1, 1, 1, 1, 1, 2, 3, 4, 4, 1, 2, 3, 4, 1, 2, 4, 1, 4, 2, 4, 3, 1, 1, 2, 3, 4, 2, 1, 2, 3, 4, 1, 3, 4, 1, 2, 4, 4, 1, 1, 2, 3, 3, 4, 2, 3, 4, 3, 2, 3, 2, 3, 4, 1, 2, 2, 2, 3, 4, 1, 2, 4, 1, 1, 2, 3, 4, 1, 3, 4, 2, 3, 4, 1, 2, 3, 4, 1, 4, 2, 4, 2, 4, 1, 3, 1, 2, 1, 2, 4, 2, 4, 2, 1, 3, 1, 3, 4, 1, 2, 3, 4, 1, 4, 1, 1, 3, 4, 1, 2, 3, 4, 2, 3, 1, 2, 3, 4, 1, 2, 3, 4, 1, 3, 2, 2, 3, 3, 2, 2, 1, 2, 3, 4, 1, 2, 3, 3, 4, 4, 4, 4, 1, 1, 1, 2, 3, 4, 2, 3, 4, 2, 3], \"Freq\": [0.9632685476360197, 0.8268979928261423, 0.12766825624594916, 0.12766825624594916, 0.2553365124918983, 0.5106730249837966, 0.8700645685557579, 0.9302543125180327, 0.8070668445935602, 0.7199493182616239, 0.23998310608720794, 0.8268982173100172, 0.8268992419316746, 0.8268982062254296, 0.7554554341648093, 0.2518184780549364, 0.9047369506972242, 0.8141753610907952, 0.2035438402726988, 0.8698692544127296, 0.8666737468403433, 0.8268982127782439, 0.20059145475822954, 0.8023658190329181, 0.31294821788447763, 0.4694223268267165, 0.23471116341335824, 0.8268979462948105, 0.8269020995759928, 0.7229344603097092, 0.8066606608155837, 0.9047216013022463, 0.34347605137352083, 0.6869521027470417, 0.2424283045066554, 0.4848566090133108, 0.2424283045066554, 0.8268985308000293, 0.43121794102406247, 0.8268980705111268, 0.38530687378819983, 0.2889801553411499, 0.2889801553411499, 0.963913637915983, 0.7608119424786701, 0.15216238849573402, 0.8697704229174027, 0.826897865391284, 0.6555487412067966, 0.12291538897627437, 0.18437308346441156, 0.04097179632542479, 0.8693817327503537, 0.870066168228853, 0.8700651601718794, 0.4449268362011142, 0.5561585452513927, 0.13077426732085426, 0.2942421014719221, 0.3923228019625628, 0.1961614009812814, 0.9052685602208966, 0.656830561014925, 0.49590331154728207, 0.24795165577364103, 0.24795165577364103, 0.18007507932773695, 0.3601501586554739, 0.3601501586554739, 0.8700643262117144, 0.3660709615787945, 0.5491064423681917, 0.9073991669032292, 0.10082212965591435, 0.8700642626130053, 0.9638991206806354, 0.9302540603180756, 0.15724809020680208, 0.31449618041360416, 0.15724809020680208, 0.31449618041360416, 0.9647806158664802, 0.8070658785513045, 0.8027003038377496, 0.2720416593014149, 0.13602082965070744, 0.5440833186028298, 0.690489271538515, 0.17262231788462876, 0.9053259983916793, 0.246219810188015, 0.738659430564045, 0.6563486244033495, 0.8268979780749613, 0.8722988549252048, 0.1090373568656506, 0.38489297571902775, 0.44904180500553237, 0.12829765857300926, 0.8268980561907828, 0.8700654574328806, 0.9423077978877535, 0.1572532862117798, 0.3145065724235596, 0.1572532862117798, 0.3145065724235596, 0.9047174202766575, 0.8070675643273033, 0.694475206708623, 0.17361880167715574, 0.08680940083857787, 0.12223157038225191, 0.48892628152900763, 0.24446314076450382, 0.12223157038225191, 0.6032667571509106, 0.3016333785754553, 0.15081668928772765, 0.9065622258943057, 0.8070654610584168, 0.826898413356712, 0.8268980072338551, 0.8859491152573715, 0.8268983446694644, 0.974169341337103, 0.17511999161925665, 0.17511999161925665, 0.52535997485777, 0.12404496071203705, 0.43415736249212966, 0.18606744106805556, 0.2480899214240741, 0.3741350303965652, 0.3741350303965652, 0.1870675151982826, 0.0935337575991413, 0.33114541736465053, 0.08278635434116263, 0.33114541736465053, 0.2483590630234879, 0.5563563676353759, 0.3338138205812255, 0.11127127352707517, 0.7464153342158746, 0.09330191677698432, 0.09330191677698432, 0.183949155490059, 0.183949155490059, 0.551847466470177, 0.15780735629257553, 0.31561471258515106, 0.4734220688777266, 0.930255589268285, 0.8700589938888389, 0.25907082394272024, 0.5181416478854405, 0.24357847266076044, 0.4871569453215209, 0.12178923633038022, 0.12178923633038022, 0.6005130909702451, 0.30025654548512254, 0.2236804948670404, 0.2236804948670404, 0.4473609897340808, 0.1118402474335202, 0.8066597616148922, 0.08743980902621606, 0.34975923610486426, 0.6120786631835125, 0.8066615272048402, 0.2576924072748466, 0.5153848145496932, 0.6733212584730695, 0.2693285033892278, 0.5537609945344709, 0.27688049726723546, 0.9047145675190262, 0.2779339820422906, 0.4169009730634359, 0.2779339820422906, 0.7443828814615865, 0.8022780680384239, 0.8023055125478894, 0.963841358827657, 0.7199289911496601, 0.23997633038322005, 0.9057488053174448, 0.6568325982161318, 0.04153261189995535, 0.45685873089950885, 0.20766305949977676, 0.2907282832996875, 0.32200933951955757, 0.6440186790391151, 0.13397416299200965, 0.6698708149600482, 0.13397416299200965, 0.9047273639053923, 0.24179458650104668, 0.48358917300209336, 0.24179458650104668, 0.1836796704631164, 0.1836796704631164, 0.5510390113893492, 0.9056454638802397, 0.8266665208946632, 0.9302547410513718, 0.8066606617193497, 0.9047161520381239, 0.9632664818846463, 0.9047173264283175, 0.1800635804619477, 0.1800635804619477, 0.27009537069292155, 0.3601271609238954, 0.8700601131759457, 0.11392195462208932, 0.45568781848835727, 0.11392195462208932, 0.34176586386626795, 0.6902897979938163, 0.2588586742476811, 0.08628622474922704, 0.2575219229138757, 0.5150438458277514, 0.963841636031791, 0.8853381979658996, 0.8269002004866094, 0.9047162642563443, 0.17814100386911297, 0.17814100386911297, 0.44535250967278245, 0.17814100386911297, 0.9053658621225753, 0.2735681432153231, 0.06839203580383077, 0.5471362864306462, 0.06839203580383077, 0.8066585719093675, 0.20166464297734188, 0.8693646274622202, 0.6977540637652137, 0.1744385159413034, 0.1744385159413034, 0.8700655371505783, 0.9047981076822448, 0.43697832339492654, 0.4916006138192924, 0.10924458084873163, 0.7824002415545336, 0.1564800483109067, 0.666056180736546, 0.222018726912182, 0.111009363456091, 0.9302539199580331, 0.6921793378549362, 0.17304483446373406, 0.9052281907343351, 0.5430253730485463, 0.3620169153656975, 0.9047159909324685, 0.8022784758361582, 0.9638709244254773, 0.3119569997509194, 0.3119569997509194, 0.2079713331672796, 0.30542296433592847, 0.5090382738932141, 0.20361530955728563, 0.9597499275057503, 0.25125019275585436, 0.25125019275585436, 0.12562509637792718, 0.37687528913378154, 0.7247161546799428, 0.24157205155998093, 0.8700661238030573, 0.20541141947305927, 0.6162342584191779, 0.8807132090472165, 0.3741978458675512, 0.1870989229337756, 0.3741978458675512, 0.8700618792273539, 0.5534146606177125, 0.27670733030885625, 0.9052602818437173, 0.8700600062051576, 0.47626795577357817, 0.47626795577357817, 0.8066609387981647, 0.8268228672416457, 0.8066609053118832, 0.9054509459869147, 0.15225865959674106, 0.6090346383869643, 0.15225865959674106, 0.9053079493000864, 0.8700653009290489, 0.802245275411812, 0.15427699231672626, 0.7713849615836312, 0.5328318362455373, 0.17761061208184578, 0.26641591812276866, 0.3323466983120013, 0.4431289310826684, 0.1107822327706671, 0.1107822327706671, 0.8168332586581385, 0.20420831466453462, 0.8017391627783407, 0.24619039241656068, 0.738571177249682, 0.6568316324164154, 0.4324255609112169, 0.1235501602603477, 0.2471003205206954, 0.18532524039052153, 0.24615747835816812, 0.7384724350745043, 0.2596875120287717, 0.605937528067134, 0.08656250400959056, 0.08656250400959056, 0.2534920753602289, 0.19011905652017166, 0.12674603768011444, 0.4436111318804006, 0.9047165086244402, 0.8268996080275155, 0.9053656426160922, 0.4589853084285819, 0.4589853084285819, 0.929761378891215, 0.9052615748217802, 0.8070678513861871, 0.8066619752781607, 0.29514547636702215, 0.1967636509113481, 0.4919091272783702, 0.08811079086668379, 0.08811079086668379, 0.7929971178001541, 0.6279125941785102, 0.2093041980595034, 0.8700645259682899, 0.8698676609113644, 0.8698683768076512, 0.9047217868873279, 0.8066607672766765, 0.12178309466852748, 0.5480239260083737, 0.3044577366713187, 0.06089154733426374, 0.14435752056085155, 0.14435752056085155, 0.7217876028042577, 0.6067067015340539, 0.36402402092043235], \"Term\": [\"000\", \"0xffff\", \"100k\", \"100k\", \"100k\", \"100k\", \"101\", \"15\", \"1m\", \"2024\", \"2024\", \"4140\", \"50\", \"5e8c\", \"69\", \"69\", \"69_420\", \"70k\", \"70k\", \"71\", \"99k\", \"a03b\", \"acquire\", \"acquire\", \"address\", \"address\", \"address\", \"af48\", \"allow\", \"already\", \"american\", \"appreciate\", \"around\", \"around\", \"asset\", \"asset\", \"asset\", \"average\", \"away\", \"baae\", \"back\", \"back\", \"back\", \"backdoor\", \"bear\", \"bear\", \"bet\", \"bfd2\", \"bitcoin\", \"bitcoin\", \"bitcoin\", \"bitcoin\", \"bitcoins\", \"blue\", \"bottom\", \"bought\", \"bought\", \"btc\", \"btc\", \"btc\", \"btc\", \"build\", \"bull_market\", \"buy\", \"buy\", \"buy\", \"buying\", \"buying\", \"buying\", \"caused\", \"chance\", \"chance\", \"chart\", \"chart\", \"cloud\", \"code\", \"coin\", \"coinbase\", \"coinbase\", \"coinbase\", \"coinbase\", \"cold\", \"coldcard\", \"comment\", \"company\", \"company\", \"company\", \"could\", \"could\", \"course\", \"crash\", \"crash\", \"crystal_ball\", \"d036\", \"daily\", \"daily\", \"day\", \"day\", \"day\", \"dce6\", \"delete\", \"deleted\", \"enough\", \"enough\", \"enough\", \"enough\", \"entire\", \"estate\", \"etf\", \"etf\", \"etf\", \"even\", \"even\", \"even\", \"even\", \"every\", \"every\", \"every\", \"exposure\", \"extract\", \"famous\", \"fffe\", \"ffff_ffff\", \"fine\", \"firmware\", \"fun\", \"fun\", \"fun\", \"get\", \"get\", \"get\", \"get\", \"go\", \"go\", \"go\", \"go\", \"going\", \"going\", \"going\", \"going\", \"gon_na\", \"gon_na\", \"gon_na\", \"good\", \"good\", \"good\", \"got\", \"got\", \"got\", \"grayscale\", \"grayscale\", \"grayscale\", \"half\", \"halving\", \"hand\", \"hand\", \"happen\", \"happen\", \"happen\", \"happen\", \"happy\", \"happy\", \"high\", \"high\", \"high\", \"high\", \"historical\", \"http\", \"http\", \"http\", \"intend\", \"issue\", \"issue\", \"key\", \"key\", \"know\", \"know\", \"largest\", \"last\", \"last\", \"last\", \"laura\", \"least\", \"ledger\", \"ledger_support\", \"let\", \"let\", \"letter\", \"life\", \"like\", \"like\", \"like\", \"like\", \"lol\", \"lol\", \"long\", \"long\", \"long\", \"love\", \"make\", \"make\", \"make\", \"many\", \"many\", \"many\", \"mean\", \"meme\", \"might\", \"miner\", \"minute\", \"model\", \"moment\", \"mstr\", \"mstr\", \"mstr\", \"mstr\", \"neck\", \"need\", \"need\", \"need\", \"need\", \"new\", \"new\", \"new\", \"new_ath\", \"new_ath\", \"news\", \"nice\", \"nothing\", \"offering\", \"one\", \"one\", \"one\", \"one\", \"open_source\", \"people\", \"people\", \"people\", \"people\", \"per\", \"per\", \"play\", \"point\", \"point\", \"point\", \"posted\", \"power_law\", \"price\", \"price\", \"price\", \"private_key\", \"private_key\", \"probably\", \"probably\", \"probably\", \"public_key\", \"question\", \"question\", \"real\", \"really\", \"really\", \"regret\", \"release\", \"removed\", \"right\", \"right\", \"right\", \"said\", \"said\", \"said\", \"sat\", \"say\", \"say\", \"say\", \"say\", \"see\", \"see\", \"seed\", \"seems\", \"seems\", \"seller\", \"selling\", \"selling\", \"selling\", \"sex\", \"short\", \"short\", \"signed\", \"sitting\", \"someone\", \"someone\", \"sometimes\", \"soon\", \"south\", \"stacking\", \"still\", \"still\", \"still\", \"stop\", \"sunny\", \"support\", \"sure\", \"sure\", \"ta\", \"ta\", \"ta\", \"take\", \"take\", \"take\", \"take\", \"talking\", \"talking\", \"term\", \"thank\", \"thank\", \"thanks\", \"think\", \"think\", \"think\", \"think\", \"though\", \"though\", \"time\", \"time\", \"time\", \"time\", \"today\", \"today\", \"today\", \"today\", \"town\", \"trader\", \"trezor\", \"trust\", \"trust\", \"valid_private\", \"verify\", \"waiting\", \"waking\", \"wallet\", \"wallet\", \"wallet\", \"week\", \"week\", \"week\", \"well\", \"well\", \"wife\", \"winning\", \"withdraw\", \"work_good\", \"worth\", \"would\", \"would\", \"would\", \"would\", \"yeah\", \"yeah\", \"yeah\", \"year\", \"year\"]}, \"R\": 30, \"lambda.step\": 0.01, \"plot.opts\": {\"xlab\": \"PC1\", \"ylab\": \"PC2\"}, \"topic.order\": [1, 2, 3, 4]};\n",
              "\n",
              "function LDAvis_load_lib(url, callback){\n",
              "  var s = document.createElement('script');\n",
              "  s.src = url;\n",
              "  s.async = true;\n",
              "  s.onreadystatechange = s.onload = callback;\n",
              "  s.onerror = function(){console.warn(\"failed to load library \" + url);};\n",
              "  document.getElementsByTagName(\"head\")[0].appendChild(s);\n",
              "}\n",
              "\n",
              "if(typeof(LDAvis) !== \"undefined\"){\n",
              "   // already loaded: just create the visualization\n",
              "   !function(LDAvis){\n",
              "       new LDAvis(\"#\" + \"ldavis_el169461385365696819846414465591\", ldavis_el169461385365696819846414465591_data);\n",
              "   }(LDAvis);\n",
              "}else if(typeof define === \"function\" && define.amd){\n",
              "   // require.js is available: use it to load d3/LDAvis\n",
              "   require.config({paths: {d3: \"https://d3js.org/d3.v5\"}});\n",
              "   require([\"d3\"], function(d3){\n",
              "      window.d3 = d3;\n",
              "      LDAvis_load_lib(\"https://cdn.jsdelivr.net/gh/bmabey/pyLDAvis@3.4.0/pyLDAvis/js/ldavis.v3.0.0.js\", function(){\n",
              "        new LDAvis(\"#\" + \"ldavis_el169461385365696819846414465591\", ldavis_el169461385365696819846414465591_data);\n",
              "      });\n",
              "    });\n",
              "}else{\n",
              "    // require.js not available: dynamically load d3 & LDAvis\n",
              "    LDAvis_load_lib(\"https://d3js.org/d3.v5.js\", function(){\n",
              "         LDAvis_load_lib(\"https://cdn.jsdelivr.net/gh/bmabey/pyLDAvis@3.4.0/pyLDAvis/js/ldavis.v3.0.0.js\", function(){\n",
              "                 new LDAvis(\"#\" + \"ldavis_el169461385365696819846414465591\", ldavis_el169461385365696819846414465591_data);\n",
              "            })\n",
              "         });\n",
              "}\n",
              "</script>"
            ]
          },
          "metadata": {},
          "execution_count": 50
        }
      ]
    }
  ]
}